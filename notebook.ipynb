{
 "cells": [
  {
   "cell_type": "code",
   "execution_count": 50,
   "id": "157b1b05",
   "metadata": {},
   "outputs": [],
   "source": [
    "from imgs import *  # gets all functions and their names\n",
    "import time\n",
    "from selenium import webdriver\n",
    "from webdriver_manager.chrome import ChromeDriverManager\n",
    "import pyautogui\n",
    "from selenium.webdriver.chrome.service import Service\n",
    "from selenium.webdriver.common.by import By\n",
    "import undetected_chromedriver as uc\n",
    "\n",
    "\n",
    "def read_password_file(filepath):\n",
    "    \"\"\"\n",
    "    Read and return the user/password file.\n",
    "    \"\"\"\n",
    "    try:\n",
    "        with open(filepath, 'r') as fd:\n",
    "            lines = fd.readlines()\n",
    "            fd.close()\n",
    "            return lines\n",
    "    except IOError:\n",
    "        raise ValueError(\"Can't open password file for reading.\")\n",
    "\n",
    "def check_for_popups():\n",
    "    try:\n",
    "        login_button = driver.find_element(By.XPATH, '//button[text()=\"Log in\"]')\n",
    "        login_button.click()\n",
    "        time.sleep(1)\n",
    "        return print('found login button')\n",
    "    except: print(\"No 'do not dw app click on login found'\")\n",
    "    try:\n",
    "        # add instagram to your home screen, cancel\n",
    "        button = driver.find_element(By.XPATH, '//button[text()=\"Cancel\"]')\n",
    "        button.click()\n",
    "        time.sleep(1)\n",
    "        return print('found cancel button')\n",
    "    except: print(\"No 'add instagram to your home screen, cancel' button found'\")\n",
    "    try:\n",
    "        # do not save login info, click on not now\n",
    "        button = driver.find_element(By.XPATH, '//button[text()=\"Not Now\"]')\n",
    "        button.click()\n",
    "        time.sleep(1)\n",
    "        return print('found not now button')\n",
    "    except: print(\"No 'do not save login info, click on not now' button found'\")\n",
    "    try:\n",
    "        button = driver.find_element(By.XPATH, '//button[text()=\"Allow essential and optional cookies\"]')\n",
    "        button.click()\n",
    "        time.sleep(1)\n",
    "        return print('found allow essential and optional cookies button')\n",
    "    except: print(\"No essential cookies popup button found.\")\n",
    "    print(\"Popup check finished, no recognizable popup currently on the screen.\")\n",
    "\n",
    "\n",
    "def share_post(message):\n",
    "    # share post\n",
    "    # click upload button menu\n",
    "    img_upload=driver.find_element(By.XPATH, '/html/body/div[1]/div/div/div/div[1]/div/div/div/div[1]/section/nav[1]/div/header/div/div/div[1]/div[1]/div[2]/a/div/div')\n",
    "    img_upload.click()\n",
    "    time.sleep(3)\n",
    "    # now click on post\n",
    "    img_upload=driver.find_element(By.XPATH, '/html/body/div[1]/div/div/div/div[1]/div/div/div/div[1]/section/nav[1]/div/header/div/div/div[1]/div[1]/div[1]/div/div/div[1]/div[1]/div/div[1]/div/div/div/div')\n",
    "    img_upload.click()\n",
    "    time.sleep(2)\n",
    "\n",
    "\n",
    "    path = 'E:\\\\projects\\\\instapy-and-image-generator\\\\result.png' # your imagepath\n",
    "    # img_upload.send_keys(path)\n",
    "    # pyautogui.write(path, interval=0.05)\n",
    "    open_window = pyautogui.getWindowsWithTitle(\"Open\")[0]\n",
    "    open_window.maximize()\n",
    "    pyautogui.click(open_window.center)\n",
    "    pyautogui.write(path)\n",
    "    time.sleep(2)\n",
    "    pyautogui.press('enter')\n",
    "\n",
    "\n",
    "    # click next\n",
    "    img_upload=driver.find_element(By.XPATH, '/html/body/div[1]/div/div/div/div[1]/div/div/div/div[1]/div[1]/section/div[1]/header/div/div[2]/button')\n",
    "    img_upload.click()\n",
    "    time.sleep(2)\n",
    "\n",
    "\n",
    "\n",
    "    # write caption\n",
    "    img_upload=driver.find_element(By.XPATH, '/html/body/div[1]/div/div/div/div[1]/div/div/div/div[1]/div[1]/section/div[2]/section[1]/div[1]/textarea')\n",
    "    img_upload.click()\n",
    "    img_upload.send_keys(message)\n",
    "    img_upload.send_keys('\\n\\n #motivational #quoteoftheday #motivationalquotes #motivation #quotes #inspiration #success #mindset #inspirationalquotes #love #positivity')\n",
    "    time.sleep(2)\n",
    "\n",
    "\n",
    "def login():\n",
    "    check_for_popups()\n",
    "\n",
    "    my_email=driver.find_element(By.XPATH, '//input[@name=\"username\"]')\n",
    "    my_email.send_keys(\"motivation_blu\")\n",
    "\n",
    "    my_password=driver.find_element(By.XPATH, '//input[@name=\"password\"]')\n",
    "    my_password.send_keys(read_password_file('./.pass'))\n",
    "    time.sleep(2)\n",
    "\n",
    "    login=driver.find_element(By.XPATH, '//div[text()=\"Log in\"]')\n",
    "    login.click()\n",
    "\n",
    "    time.sleep(3)\n",
    "\n",
    "    check_for_popups()\n",
    "\n",
    "\n",
    "def share_story():\n",
    "    check_for_popups()\n",
    "\n",
    "    # time.sleep(1)\n",
    "    # open_window.maximize()\n",
    "    # time.sleep(1)\n",
    "    driver.switch_to.window(driver.current_window_handle)\n",
    "    driver.minimize_window()\n",
    "    driver.maximize_window()\n",
    "\n",
    "    time.sleep(1)\n",
    "\n",
    "    # open_window = pyautogui.getWindowsWithTitle(\"Instagram\")[0]\n",
    "    # pyautogui.click(open_window.center)\n",
    "    pyautogui.click('./click-on-mobile.png')\n",
    "    print('clicked on mobile')\n",
    "\n",
    "\n",
    "\n",
    "    # pyautogui.keyDown('f12')\n",
    "    # pyautogui.keyUp('f12')\n",
    "    # time.sleep(2)\n",
    "    # pyautogui.keyDown('ctrl')\n",
    "    # pyautogui.keyDown('shift')\n",
    "    # pyautogui.press('m')\n",
    "    # pyautogui.keyUp('shift')\n",
    "    # pyautogui.keyUp('ctrl')\n",
    "\n",
    "\n",
    "    \n",
    "    check_for_popups()\n",
    "    check_for_popups()\n",
    "\n",
    "    print('clicking on story')\n",
    "    pyautogui.click('./click-on-story.png')\n",
    "    print('clicked on story')\n",
    "\n",
    "\n",
    "    # share story BEGIN\n",
    "    # img_upload=driver.find_element(By.XPATH, '/html/body/div[1]/div/div/div/div[1]/div/div/div/div[1]/section/nav[1]/div/header/div/div/div[1]/div[1]/div[2]/a/div/div/div/div')\n",
    "\n",
    "    # driver.minimize_window()\n",
    "    # driver.maximize_window()\n",
    "\n",
    "    # print(pyautogui.size())\n",
    "    # print(pyautogui.size()[1])\n",
    "\n",
    "    # dev_console = (pyautogui.size()[0] - (pyautogui.size()[0]/12),pyautogui.size()[1])\n",
    "    # open_window = pyautogui.getWindowsWithTitle(\"Instagram\")[0]\n",
    "    # open_window.maximize()\n",
    "    # pyautogui.click(dev_console)\n",
    "\n",
    "\n",
    "    time.sleep(1)\n",
    "\n",
    "    # pyautogui.keyDown('ctrl')\n",
    "    # pyautogui.keyDown('shift')\n",
    "    # pyautogui.press('m')\n",
    "    # pyautogui.keyUp('shift')\n",
    "    # pyautogui.keyUp('ctrl')\n",
    "\n",
    "    # time.sleep(1)\n",
    "\n",
    "#     button = driver.find_element(By.XPATH, '//div[text()=\"Your story\"]')\n",
    "\n",
    "#     button.click()\n",
    "    time.sleep(1)\n",
    "\n",
    "#     check_for_popups()\n",
    "\n",
    "\n",
    "\n",
    "    # share story\n",
    "#     img_upload = driver.find_element(By.XPATH, '/html/body/div[1]/div/div/div/div[1]/div/div/div/div[1]/section/main/div[1]/section/div/div[2]/div/div/div/div[1]/button')\n",
    "#     img_upload.click()\n",
    "#     time.sleep(2)\n",
    "    path = 'E:\\\\projects\\\\instapy-and-image-generator\\\\result.png' # your imagepath\n",
    "    # img_upload.send_keys(path)\n",
    "    # pyautogui.write(path, interval=0.05)\n",
    "    open_window = pyautogui.getWindowsWithTitle(\"Open\")[0]\n",
    "    open_window.maximize()\n",
    "\n",
    "    pyautogui.click(open_window.center)\n",
    "\n",
    "    pyautogui.write(path)\n",
    "    time.sleep(2)\n",
    "    pyautogui.press('enter')\n",
    "\n",
    "\n",
    "\n",
    "\n",
    "    # add to story\n",
    "\n",
    "    img_upload = driver.find_element(By.XPATH, '/html/body/div[1]/div/div/div/div[1]/div/div/div/div[1]/div[1]/section/footer/div/div/button')\n",
    "    img_upload.click()\n",
    "\n",
    "    \n",
    "\n",
    "\n",
    "message = \\\n",
    "    \"Alwaysaa try to end the day with a positiveday with a positiveday with a positive thought. No matter how hard as df  asdfas dfas asdf a things are, tomorrow is a fresh opportunity to make everything better.\"\n",
    "\n",
    "message2 = \"When you say you suffer from a physical illness, you get sympathy. When you say you suffer from depression, you sometimes get blamed. We know it sucks, but at the very least, please take solace in the fact that you are not alone – as evidenced by the fact that 350 million people in the world struggle with depression.\"\n",
    "\n",
    "message3 = 'asdf asdf asdf asdf asdf asdf asdf asdf asdf asdf asdf asdf asdf asdf asdf asdf asdf asdf asdf qwe qwer qwer qwer qwer qwer asdf asdf asdf qwer qwef qwef qwef asdf asdf qwef qwefq wef qwef asdf asdf qwef asdf awef awefa wef awef awef asdf asdf asd fasd fasdf asdf asdf '\n",
    "message4 = 'Alwaysaa try to end the day with a positiveday with a positiveday with a positive thought. No matter how hard as df'\n",
    "message5 = 'giochero per vincere niggas be niggas all the time no cap we strong brosefinos leggo my birtth light'\n",
    "message25 = \"Lorem ipsum dolor sit ame\"\n",
    "message50 = \"Lorem ipsum dolor sit amet, consectetuer adipiscin\"\n",
    "message120 = \"Lorem ipsum dolor sit amet, consectetuer adipiscing elit. Aenean commodo ligula eget dolor. Aenean massa. Cum sociis nat\"  # average quote size\n",
    "message220 = 'Lorem ipsum dolor sit amet, consectetueradipiscing welit. Aenean commodo ligula eget dolor. Aenean massa. Cum sociis natoque penatibus et magnis dis parturient montes, nascetur ridiculus mus. Donec quam felis, ultricies.'\n",
    "message260 = 'Lorem ipsum dolor sit amet, consectetuer adipiscing elit. Aenean commodo ligula eget dolor. Aenean massa. Cum sociis natoque penatibus et magnis dis parturient montes, nascetur ridiculus mus. Donec quam felis, ultricies nec, pellentesque eu, pretium quis, sem.'\n",
    "message325 = 'Lorem ipsum dolor sit amet, consectetuer adipiscing elit. Aenean commodo ligula eget dolor. Aenean massa. Cum sociis natoque penatibus et magnis dis parturient montes, nascetur ridiculus mus. Donec quam felis, ultricies nec, pellentesque eu, pretium quis, sem. Nulla consequat massa quis enim. Donec pede justo, fringilla vel'\n",
    "message500 = 'Lorem ipsum dolor sit amet, consectetuer adipiscing elit. Aenean commodo ligula eget dolor. Aenean massa. Cum sociis natoque penatibus et magnis dis parturient montes, nascetur ridiculus mus. Donec quam felis, ultricies nec, pellentesque eu, pretium quis, sem. Nulla consequat massa quis enim. Donec pede justo, fringilla vel, aliquet nec, vulputate eget, arcu. In enim justo, rhoncus ut, imperdiet a, venenatis vitae, justo. Nullam dictum felis eu pede mollis pretium. Integer tincidunt. Cras dapibu'\n",
    "\n",
    "    \n",
    "\n",
    "\n"
   ]
  },
  {
   "cell_type": "code",
   "execution_count": 7,
   "id": "b70c63cf",
   "metadata": {},
   "outputs": [],
   "source": [
    "driver.minimize_window()\n",
    "driver.maximize_window()\n",
    "pyautogui.click('./click-on-mobile.png')"
   ]
  },
  {
   "cell_type": "code",
   "execution_count": 6,
   "id": "087d56f2",
   "metadata": {},
   "outputs": [
    {
     "name": "stdout",
     "output_type": "stream",
     "text": [
      "No 'do not dw app click on login found'\n",
      "No 'add instagram to your home screen, cancel' button found'\n",
      "found not now button\n"
     ]
    }
   ],
   "source": [
    "check_for_popups()"
   ]
  },
  {
   "cell_type": "code",
   "execution_count": 11,
   "id": "80ea0930",
   "metadata": {},
   "outputs": [],
   "source": []
  },
  {
   "cell_type": "code",
   "execution_count": 16,
   "id": "0803a7a0",
   "metadata": {
    "scrolled": true
   },
   "outputs": [
    {
     "name": "stderr",
     "output_type": "stream",
     "text": [
      "C:\\Users\\blu\\AppData\\Local\\Temp\\ipykernel_20200\\2255707486.py:34: DeprecationWarning: firefox_profile has been deprecated, please use an Options object\n",
      "  profile = webdriver.FirefoxProfile()\n",
      "C:\\Users\\blu\\AppData\\Local\\Temp\\ipykernel_20200\\2255707486.py:41: DeprecationWarning: firefox_profile has been deprecated, please pass in an Options object\n",
      "  driver = webdriver.Firefox(profile, options=options)\n"
     ]
    },
    {
     "name": "stdout",
     "output_type": "stream",
     "text": [
      "No 'do not dw app click on login found'\n",
      "No 'add instagram to your home screen, cancel' button found'\n",
      "No 'do not save login info, click on not now' button found'\n",
      "found allow essential and optional cookies button\n"
     ]
    }
   ],
   "source": [
    "# options=uc.ChromeOptions()\n",
    "# options.add_argument(\"--disable-backgrounding-occluded-windows\")\n",
    "# options.add_argument(\"--user-agent='Mozilla/5.0 (iPhone; CPU iPhone OS 10_3 like Mac OS X) AppleWebKit/602.1.50 (KHTML, like Gecko) CriOS/56.0.2924.75 Mobile/14E5239e Safari/602.1'\")\n",
    "# options.add_argument(\"--auto-open-devtools-for-tabs\")\n",
    "# options.addArguments(\"--disable-geolocation\");\n",
    "\n",
    "# driver = uc.Chrome(use_subprocess=True, options=options)\n",
    "\n",
    "# from selenium.webdriver.firefox.firefox_binary import FirefoxBinary\n",
    "\n",
    "\n",
    "\n",
    "from selenium.webdriver.firefox.options import Options\n",
    "import json\n",
    "\n",
    "presets = [\n",
    "    {\n",
    "        \"key\": \"480x800\",\n",
    "        \"name\": \"Google Nexus one\",\n",
    "        \"width\": 480,\n",
    "        \"height\": 800\n",
    "    },\n",
    "\n",
    "    # TO FILL\n",
    "\n",
    "    {\n",
    "        \"key\": \"1680x1050\",\n",
    "        \"name\": \"Desktop - stat 2.96%\",\n",
    "        \"width\": 1680,\n",
    "        \"height\": 1050\n",
    "    }\n",
    "]\n",
    "\n",
    "profile = webdriver.FirefoxProfile()\n",
    "profile.set_preference('devtools.responsiveUI.presets', json.dumps(presets))\n",
    "\n",
    "# driver = webdriver.Firefox(profile)\n",
    "\n",
    "options = Options()\n",
    "options.binary_location = r'C:\\\\Program Files\\\\Mozilla Firefox\\\\firefox.exe'\n",
    "driver = webdriver.Firefox(profile, options=options)\n",
    "\n",
    "# driver.get('http://google.com/')\n",
    "\n",
    "\n",
    "# binary = FirefoxBinary('C:\\\\Program Files\\\\Mozilla Firefox')\n",
    "# driver = webdriver.Firefox()\n",
    "\n",
    "\n",
    "\n",
    "\n",
    "\n",
    "# driver.minimize_window()\n",
    "# driver.maximize_window()\n",
    "driver.get(\"https://www.instagram.com/\")\n",
    "time.sleep(3)\n",
    "\n",
    "check_for_popups()"
   ]
  },
  {
   "cell_type": "code",
   "execution_count": 17,
   "id": "a07aca95",
   "metadata": {},
   "outputs": [
    {
     "name": "stdout",
     "output_type": "stream",
     "text": [
      "No 'do not dw app click on login found'\n",
      "No 'add instagram to your home screen, cancel' button found'\n",
      "No 'do not save login info, click on not now' button found'\n",
      "No essential cookies popup button found.\n",
      "Popup check finished, no recognizable popup currently on the screen.\n",
      "No 'do not dw app click on login found'\n",
      "No 'add instagram to your home screen, cancel' button found'\n",
      "found not now button\n"
     ]
    }
   ],
   "source": [
    "try:\n",
    "    login()\n",
    "except Exception as e:\n",
    "    print('We had the following problem: ', e)\n",
    "\n"
   ]
  },
  {
   "cell_type": "code",
   "execution_count": 5,
   "id": "eaeb4904",
   "metadata": {},
   "outputs": [
    {
     "name": "stdout",
     "output_type": "stream",
     "text": [
      "No 'do not dw app click on login found'\n",
      "No 'add instagram to your home screen, cancel' button found'\n",
      "found not now button\n",
      "We had the following problem:  cannot unpack non-iterable NoneType object\n"
     ]
    }
   ],
   "source": [
    "try:\n",
    "    share_story()\n",
    "except Exception as e:\n",
    "    print('We had the following problem: ', e)\n"
   ]
  },
  {
   "cell_type": "code",
   "execution_count": null,
   "id": "d61c224c",
   "metadata": {},
   "outputs": [],
   "source": [
    "button=driver.find_element(By.XPATH, '//span[@aria-label=\"Home\"]')\n",
    "button.click()"
   ]
  },
  {
   "cell_type": "code",
   "execution_count": 23,
   "id": "f4eb987e",
   "metadata": {},
   "outputs": [
    {
     "ename": "ProtocolError",
     "evalue": "('Connection aborted.', ConnectionResetError(10054, 'An existing connection was forcibly closed by the remote host', None, 10054, None))",
     "output_type": "error",
     "traceback": [
      "\u001b[1;31m---------------------------------------------------------------------------\u001b[0m",
      "\u001b[1;31mConnectionResetError\u001b[0m                      Traceback (most recent call last)",
      "File \u001b[1;32mE:\\projects\\instapy-and-image-generator\\instaenv\\lib\\site-packages\\urllib3\\connectionpool.py:703\u001b[0m, in \u001b[0;36mHTTPConnectionPool.urlopen\u001b[1;34m(self, method, url, body, headers, retries, redirect, assert_same_host, timeout, pool_timeout, release_conn, chunked, body_pos, **response_kw)\u001b[0m\n\u001b[0;32m    702\u001b[0m \u001b[38;5;66;03m# Make the request on the httplib connection object.\u001b[39;00m\n\u001b[1;32m--> 703\u001b[0m httplib_response \u001b[38;5;241m=\u001b[39m \u001b[38;5;28;43mself\u001b[39;49m\u001b[38;5;241;43m.\u001b[39;49m\u001b[43m_make_request\u001b[49m\u001b[43m(\u001b[49m\n\u001b[0;32m    704\u001b[0m \u001b[43m    \u001b[49m\u001b[43mconn\u001b[49m\u001b[43m,\u001b[49m\n\u001b[0;32m    705\u001b[0m \u001b[43m    \u001b[49m\u001b[43mmethod\u001b[49m\u001b[43m,\u001b[49m\n\u001b[0;32m    706\u001b[0m \u001b[43m    \u001b[49m\u001b[43murl\u001b[49m\u001b[43m,\u001b[49m\n\u001b[0;32m    707\u001b[0m \u001b[43m    \u001b[49m\u001b[43mtimeout\u001b[49m\u001b[38;5;241;43m=\u001b[39;49m\u001b[43mtimeout_obj\u001b[49m\u001b[43m,\u001b[49m\n\u001b[0;32m    708\u001b[0m \u001b[43m    \u001b[49m\u001b[43mbody\u001b[49m\u001b[38;5;241;43m=\u001b[39;49m\u001b[43mbody\u001b[49m\u001b[43m,\u001b[49m\n\u001b[0;32m    709\u001b[0m \u001b[43m    \u001b[49m\u001b[43mheaders\u001b[49m\u001b[38;5;241;43m=\u001b[39;49m\u001b[43mheaders\u001b[49m\u001b[43m,\u001b[49m\n\u001b[0;32m    710\u001b[0m \u001b[43m    \u001b[49m\u001b[43mchunked\u001b[49m\u001b[38;5;241;43m=\u001b[39;49m\u001b[43mchunked\u001b[49m\u001b[43m,\u001b[49m\n\u001b[0;32m    711\u001b[0m \u001b[43m\u001b[49m\u001b[43m)\u001b[49m\n\u001b[0;32m    713\u001b[0m \u001b[38;5;66;03m# If we're going to release the connection in ``finally:``, then\u001b[39;00m\n\u001b[0;32m    714\u001b[0m \u001b[38;5;66;03m# the response doesn't need to know about the connection. Otherwise\u001b[39;00m\n\u001b[0;32m    715\u001b[0m \u001b[38;5;66;03m# it will also try to release it and we'll have a double-release\u001b[39;00m\n\u001b[0;32m    716\u001b[0m \u001b[38;5;66;03m# mess.\u001b[39;00m\n",
      "File \u001b[1;32mE:\\projects\\instapy-and-image-generator\\instaenv\\lib\\site-packages\\urllib3\\connectionpool.py:449\u001b[0m, in \u001b[0;36mHTTPConnectionPool._make_request\u001b[1;34m(self, conn, method, url, timeout, chunked, **httplib_request_kw)\u001b[0m\n\u001b[0;32m    445\u001b[0m         \u001b[38;5;28;01mexcept\u001b[39;00m \u001b[38;5;167;01mBaseException\u001b[39;00m \u001b[38;5;28;01mas\u001b[39;00m e:\n\u001b[0;32m    446\u001b[0m             \u001b[38;5;66;03m# Remove the TypeError from the exception chain in\u001b[39;00m\n\u001b[0;32m    447\u001b[0m             \u001b[38;5;66;03m# Python 3 (including for exceptions like SystemExit).\u001b[39;00m\n\u001b[0;32m    448\u001b[0m             \u001b[38;5;66;03m# Otherwise it looks like a bug in the code.\u001b[39;00m\n\u001b[1;32m--> 449\u001b[0m             \u001b[43msix\u001b[49m\u001b[38;5;241;43m.\u001b[39;49m\u001b[43mraise_from\u001b[49m\u001b[43m(\u001b[49m\u001b[43me\u001b[49m\u001b[43m,\u001b[49m\u001b[43m \u001b[49m\u001b[38;5;28;43;01mNone\u001b[39;49;00m\u001b[43m)\u001b[49m\n\u001b[0;32m    450\u001b[0m \u001b[38;5;28;01mexcept\u001b[39;00m (SocketTimeout, BaseSSLError, SocketError) \u001b[38;5;28;01mas\u001b[39;00m e:\n",
      "File \u001b[1;32m<string>:3\u001b[0m, in \u001b[0;36mraise_from\u001b[1;34m(value, from_value)\u001b[0m\n",
      "File \u001b[1;32mE:\\projects\\instapy-and-image-generator\\instaenv\\lib\\site-packages\\urllib3\\connectionpool.py:444\u001b[0m, in \u001b[0;36mHTTPConnectionPool._make_request\u001b[1;34m(self, conn, method, url, timeout, chunked, **httplib_request_kw)\u001b[0m\n\u001b[0;32m    443\u001b[0m \u001b[38;5;28;01mtry\u001b[39;00m:\n\u001b[1;32m--> 444\u001b[0m     httplib_response \u001b[38;5;241m=\u001b[39m \u001b[43mconn\u001b[49m\u001b[38;5;241;43m.\u001b[39;49m\u001b[43mgetresponse\u001b[49m\u001b[43m(\u001b[49m\u001b[43m)\u001b[49m\n\u001b[0;32m    445\u001b[0m \u001b[38;5;28;01mexcept\u001b[39;00m \u001b[38;5;167;01mBaseException\u001b[39;00m \u001b[38;5;28;01mas\u001b[39;00m e:\n\u001b[0;32m    446\u001b[0m     \u001b[38;5;66;03m# Remove the TypeError from the exception chain in\u001b[39;00m\n\u001b[0;32m    447\u001b[0m     \u001b[38;5;66;03m# Python 3 (including for exceptions like SystemExit).\u001b[39;00m\n\u001b[0;32m    448\u001b[0m     \u001b[38;5;66;03m# Otherwise it looks like a bug in the code.\u001b[39;00m\n",
      "File \u001b[1;32m~\\anaconda3\\lib\\http\\client.py:1377\u001b[0m, in \u001b[0;36mHTTPConnection.getresponse\u001b[1;34m(self)\u001b[0m\n\u001b[0;32m   1376\u001b[0m \u001b[38;5;28;01mtry\u001b[39;00m:\n\u001b[1;32m-> 1377\u001b[0m     \u001b[43mresponse\u001b[49m\u001b[38;5;241;43m.\u001b[39;49m\u001b[43mbegin\u001b[49m\u001b[43m(\u001b[49m\u001b[43m)\u001b[49m\n\u001b[0;32m   1378\u001b[0m \u001b[38;5;28;01mexcept\u001b[39;00m \u001b[38;5;167;01mConnectionError\u001b[39;00m:\n",
      "File \u001b[1;32m~\\anaconda3\\lib\\http\\client.py:320\u001b[0m, in \u001b[0;36mHTTPResponse.begin\u001b[1;34m(self)\u001b[0m\n\u001b[0;32m    319\u001b[0m \u001b[38;5;28;01mwhile\u001b[39;00m \u001b[38;5;28;01mTrue\u001b[39;00m:\n\u001b[1;32m--> 320\u001b[0m     version, status, reason \u001b[38;5;241m=\u001b[39m \u001b[38;5;28;43mself\u001b[39;49m\u001b[38;5;241;43m.\u001b[39;49m\u001b[43m_read_status\u001b[49m\u001b[43m(\u001b[49m\u001b[43m)\u001b[49m\n\u001b[0;32m    321\u001b[0m     \u001b[38;5;28;01mif\u001b[39;00m status \u001b[38;5;241m!=\u001b[39m CONTINUE:\n",
      "File \u001b[1;32m~\\anaconda3\\lib\\http\\client.py:281\u001b[0m, in \u001b[0;36mHTTPResponse._read_status\u001b[1;34m(self)\u001b[0m\n\u001b[0;32m    280\u001b[0m \u001b[38;5;28;01mdef\u001b[39;00m \u001b[38;5;21m_read_status\u001b[39m(\u001b[38;5;28mself\u001b[39m):\n\u001b[1;32m--> 281\u001b[0m     line \u001b[38;5;241m=\u001b[39m \u001b[38;5;28mstr\u001b[39m(\u001b[38;5;28;43mself\u001b[39;49m\u001b[38;5;241;43m.\u001b[39;49m\u001b[43mfp\u001b[49m\u001b[38;5;241;43m.\u001b[39;49m\u001b[43mreadline\u001b[49m\u001b[43m(\u001b[49m\u001b[43m_MAXLINE\u001b[49m\u001b[43m \u001b[49m\u001b[38;5;241;43m+\u001b[39;49m\u001b[43m \u001b[49m\u001b[38;5;241;43m1\u001b[39;49m\u001b[43m)\u001b[49m, \u001b[38;5;124m\"\u001b[39m\u001b[38;5;124miso-8859-1\u001b[39m\u001b[38;5;124m\"\u001b[39m)\n\u001b[0;32m    282\u001b[0m     \u001b[38;5;28;01mif\u001b[39;00m \u001b[38;5;28mlen\u001b[39m(line) \u001b[38;5;241m>\u001b[39m _MAXLINE:\n",
      "File \u001b[1;32m~\\anaconda3\\lib\\socket.py:704\u001b[0m, in \u001b[0;36mSocketIO.readinto\u001b[1;34m(self, b)\u001b[0m\n\u001b[0;32m    703\u001b[0m \u001b[38;5;28;01mtry\u001b[39;00m:\n\u001b[1;32m--> 704\u001b[0m     \u001b[38;5;28;01mreturn\u001b[39;00m \u001b[38;5;28;43mself\u001b[39;49m\u001b[38;5;241;43m.\u001b[39;49m\u001b[43m_sock\u001b[49m\u001b[38;5;241;43m.\u001b[39;49m\u001b[43mrecv_into\u001b[49m\u001b[43m(\u001b[49m\u001b[43mb\u001b[49m\u001b[43m)\u001b[49m\n\u001b[0;32m    705\u001b[0m \u001b[38;5;28;01mexcept\u001b[39;00m timeout:\n",
      "\u001b[1;31mConnectionResetError\u001b[0m: [WinError 10054] An existing connection was forcibly closed by the remote host",
      "\nDuring handling of the above exception, another exception occurred:\n",
      "\u001b[1;31mProtocolError\u001b[0m                             Traceback (most recent call last)",
      "Cell \u001b[1;32mIn [23], line 2\u001b[0m\n\u001b[0;32m      1\u001b[0m button\u001b[38;5;241m=\u001b[39mdriver\u001b[38;5;241m.\u001b[39mfind_element(By\u001b[38;5;241m.\u001b[39mXPATH, \u001b[38;5;124m'\u001b[39m\u001b[38;5;124m//button[@role=\u001b[39m\u001b[38;5;124m\"\u001b[39m\u001b[38;5;124mmenuitem\u001b[39m\u001b[38;5;124m\"\u001b[39m\u001b[38;5;124m]\u001b[39m\u001b[38;5;124m'\u001b[39m)\n\u001b[1;32m----> 2\u001b[0m \u001b[43mbutton\u001b[49m\u001b[38;5;241;43m.\u001b[39;49m\u001b[43mclick\u001b[49m\u001b[43m(\u001b[49m\u001b[43m)\u001b[49m\n",
      "File \u001b[1;32mE:\\projects\\instapy-and-image-generator\\instaenv\\lib\\site-packages\\selenium\\webdriver\\remote\\webelement.py:93\u001b[0m, in \u001b[0;36mWebElement.click\u001b[1;34m(self)\u001b[0m\n\u001b[0;32m     91\u001b[0m \u001b[38;5;28;01mdef\u001b[39;00m \u001b[38;5;21mclick\u001b[39m(\u001b[38;5;28mself\u001b[39m) \u001b[38;5;241m-\u001b[39m\u001b[38;5;241m>\u001b[39m \u001b[38;5;28;01mNone\u001b[39;00m:\n\u001b[0;32m     92\u001b[0m     \u001b[38;5;124;03m\"\"\"Clicks the element.\"\"\"\u001b[39;00m\n\u001b[1;32m---> 93\u001b[0m     \u001b[38;5;28;43mself\u001b[39;49m\u001b[38;5;241;43m.\u001b[39;49m\u001b[43m_execute\u001b[49m\u001b[43m(\u001b[49m\u001b[43mCommand\u001b[49m\u001b[38;5;241;43m.\u001b[39;49m\u001b[43mCLICK_ELEMENT\u001b[49m\u001b[43m)\u001b[49m\n",
      "File \u001b[1;32mE:\\projects\\instapy-and-image-generator\\instaenv\\lib\\site-packages\\selenium\\webdriver\\remote\\webelement.py:410\u001b[0m, in \u001b[0;36mWebElement._execute\u001b[1;34m(self, command, params)\u001b[0m\n\u001b[0;32m    408\u001b[0m     params \u001b[38;5;241m=\u001b[39m {}\n\u001b[0;32m    409\u001b[0m params[\u001b[38;5;124m\"\u001b[39m\u001b[38;5;124mid\u001b[39m\u001b[38;5;124m\"\u001b[39m] \u001b[38;5;241m=\u001b[39m \u001b[38;5;28mself\u001b[39m\u001b[38;5;241m.\u001b[39m_id\n\u001b[1;32m--> 410\u001b[0m \u001b[38;5;28;01mreturn\u001b[39;00m \u001b[38;5;28;43mself\u001b[39;49m\u001b[38;5;241;43m.\u001b[39;49m\u001b[43m_parent\u001b[49m\u001b[38;5;241;43m.\u001b[39;49m\u001b[43mexecute\u001b[49m\u001b[43m(\u001b[49m\u001b[43mcommand\u001b[49m\u001b[43m,\u001b[49m\u001b[43m \u001b[49m\u001b[43mparams\u001b[49m\u001b[43m)\u001b[49m\n",
      "File \u001b[1;32mE:\\projects\\instapy-and-image-generator\\instaenv\\lib\\site-packages\\selenium\\webdriver\\remote\\webdriver.py:442\u001b[0m, in \u001b[0;36mWebDriver.execute\u001b[1;34m(self, driver_command, params)\u001b[0m\n\u001b[0;32m    439\u001b[0m     \u001b[38;5;28;01melif\u001b[39;00m \u001b[38;5;124m\"\u001b[39m\u001b[38;5;124msessionId\u001b[39m\u001b[38;5;124m\"\u001b[39m \u001b[38;5;129;01mnot\u001b[39;00m \u001b[38;5;129;01min\u001b[39;00m params:\n\u001b[0;32m    440\u001b[0m         params[\u001b[38;5;124m\"\u001b[39m\u001b[38;5;124msessionId\u001b[39m\u001b[38;5;124m\"\u001b[39m] \u001b[38;5;241m=\u001b[39m \u001b[38;5;28mself\u001b[39m\u001b[38;5;241m.\u001b[39msession_id\n\u001b[1;32m--> 442\u001b[0m response \u001b[38;5;241m=\u001b[39m \u001b[38;5;28;43mself\u001b[39;49m\u001b[38;5;241;43m.\u001b[39;49m\u001b[43mcommand_executor\u001b[49m\u001b[38;5;241;43m.\u001b[39;49m\u001b[43mexecute\u001b[49m\u001b[43m(\u001b[49m\u001b[43mdriver_command\u001b[49m\u001b[43m,\u001b[49m\u001b[43m \u001b[49m\u001b[43mparams\u001b[49m\u001b[43m)\u001b[49m\n\u001b[0;32m    443\u001b[0m \u001b[38;5;28;01mif\u001b[39;00m response:\n\u001b[0;32m    444\u001b[0m     \u001b[38;5;28mself\u001b[39m\u001b[38;5;241m.\u001b[39merror_handler\u001b[38;5;241m.\u001b[39mcheck_response(response)\n",
      "File \u001b[1;32mE:\\projects\\instapy-and-image-generator\\instaenv\\lib\\site-packages\\selenium\\webdriver\\remote\\remote_connection.py:294\u001b[0m, in \u001b[0;36mRemoteConnection.execute\u001b[1;34m(self, command, params)\u001b[0m\n\u001b[0;32m    292\u001b[0m data \u001b[38;5;241m=\u001b[39m utils\u001b[38;5;241m.\u001b[39mdump_json(params)\n\u001b[0;32m    293\u001b[0m url \u001b[38;5;241m=\u001b[39m \u001b[38;5;124mf\u001b[39m\u001b[38;5;124m\"\u001b[39m\u001b[38;5;132;01m{\u001b[39;00m\u001b[38;5;28mself\u001b[39m\u001b[38;5;241m.\u001b[39m_url\u001b[38;5;132;01m}\u001b[39;00m\u001b[38;5;132;01m{\u001b[39;00mpath\u001b[38;5;132;01m}\u001b[39;00m\u001b[38;5;124m\"\u001b[39m\n\u001b[1;32m--> 294\u001b[0m \u001b[38;5;28;01mreturn\u001b[39;00m \u001b[38;5;28;43mself\u001b[39;49m\u001b[38;5;241;43m.\u001b[39;49m\u001b[43m_request\u001b[49m\u001b[43m(\u001b[49m\u001b[43mcommand_info\u001b[49m\u001b[43m[\u001b[49m\u001b[38;5;241;43m0\u001b[39;49m\u001b[43m]\u001b[49m\u001b[43m,\u001b[49m\u001b[43m \u001b[49m\u001b[43murl\u001b[49m\u001b[43m,\u001b[49m\u001b[43m \u001b[49m\u001b[43mbody\u001b[49m\u001b[38;5;241;43m=\u001b[39;49m\u001b[43mdata\u001b[49m\u001b[43m)\u001b[49m\n",
      "File \u001b[1;32mE:\\projects\\instapy-and-image-generator\\instaenv\\lib\\site-packages\\selenium\\webdriver\\remote\\remote_connection.py:316\u001b[0m, in \u001b[0;36mRemoteConnection._request\u001b[1;34m(self, method, url, body)\u001b[0m\n\u001b[0;32m    313\u001b[0m     body \u001b[38;5;241m=\u001b[39m \u001b[38;5;28;01mNone\u001b[39;00m\n\u001b[0;32m    315\u001b[0m \u001b[38;5;28;01mif\u001b[39;00m \u001b[38;5;28mself\u001b[39m\u001b[38;5;241m.\u001b[39mkeep_alive:\n\u001b[1;32m--> 316\u001b[0m     response \u001b[38;5;241m=\u001b[39m \u001b[38;5;28;43mself\u001b[39;49m\u001b[38;5;241;43m.\u001b[39;49m\u001b[43m_conn\u001b[49m\u001b[38;5;241;43m.\u001b[39;49m\u001b[43mrequest\u001b[49m\u001b[43m(\u001b[49m\u001b[43mmethod\u001b[49m\u001b[43m,\u001b[49m\u001b[43m \u001b[49m\u001b[43murl\u001b[49m\u001b[43m,\u001b[49m\u001b[43m \u001b[49m\u001b[43mbody\u001b[49m\u001b[38;5;241;43m=\u001b[39;49m\u001b[43mbody\u001b[49m\u001b[43m,\u001b[49m\u001b[43m \u001b[49m\u001b[43mheaders\u001b[49m\u001b[38;5;241;43m=\u001b[39;49m\u001b[43mheaders\u001b[49m\u001b[43m)\u001b[49m\n\u001b[0;32m    317\u001b[0m     statuscode \u001b[38;5;241m=\u001b[39m response\u001b[38;5;241m.\u001b[39mstatus\n\u001b[0;32m    318\u001b[0m \u001b[38;5;28;01melse\u001b[39;00m:\n",
      "File \u001b[1;32mE:\\projects\\instapy-and-image-generator\\instaenv\\lib\\site-packages\\urllib3\\request.py:78\u001b[0m, in \u001b[0;36mRequestMethods.request\u001b[1;34m(self, method, url, fields, headers, **urlopen_kw)\u001b[0m\n\u001b[0;32m     74\u001b[0m     \u001b[38;5;28;01mreturn\u001b[39;00m \u001b[38;5;28mself\u001b[39m\u001b[38;5;241m.\u001b[39mrequest_encode_url(\n\u001b[0;32m     75\u001b[0m         method, url, fields\u001b[38;5;241m=\u001b[39mfields, headers\u001b[38;5;241m=\u001b[39mheaders, \u001b[38;5;241m*\u001b[39m\u001b[38;5;241m*\u001b[39murlopen_kw\n\u001b[0;32m     76\u001b[0m     )\n\u001b[0;32m     77\u001b[0m \u001b[38;5;28;01melse\u001b[39;00m:\n\u001b[1;32m---> 78\u001b[0m     \u001b[38;5;28;01mreturn\u001b[39;00m \u001b[38;5;28mself\u001b[39m\u001b[38;5;241m.\u001b[39mrequest_encode_body(\n\u001b[0;32m     79\u001b[0m         method, url, fields\u001b[38;5;241m=\u001b[39mfields, headers\u001b[38;5;241m=\u001b[39mheaders, \u001b[38;5;241m*\u001b[39m\u001b[38;5;241m*\u001b[39murlopen_kw\n\u001b[0;32m     80\u001b[0m     )\n",
      "File \u001b[1;32mE:\\projects\\instapy-and-image-generator\\instaenv\\lib\\site-packages\\urllib3\\request.py:170\u001b[0m, in \u001b[0;36mRequestMethods.request_encode_body\u001b[1;34m(self, method, url, fields, headers, encode_multipart, multipart_boundary, **urlopen_kw)\u001b[0m\n\u001b[0;32m    167\u001b[0m extra_kw[\u001b[38;5;124m\"\u001b[39m\u001b[38;5;124mheaders\u001b[39m\u001b[38;5;124m\"\u001b[39m]\u001b[38;5;241m.\u001b[39mupdate(headers)\n\u001b[0;32m    168\u001b[0m extra_kw\u001b[38;5;241m.\u001b[39mupdate(urlopen_kw)\n\u001b[1;32m--> 170\u001b[0m \u001b[38;5;28;01mreturn\u001b[39;00m \u001b[38;5;28mself\u001b[39m\u001b[38;5;241m.\u001b[39murlopen(method, url, \u001b[38;5;241m*\u001b[39m\u001b[38;5;241m*\u001b[39mextra_kw)\n",
      "File \u001b[1;32mE:\\projects\\instapy-and-image-generator\\instaenv\\lib\\site-packages\\urllib3\\poolmanager.py:376\u001b[0m, in \u001b[0;36mPoolManager.urlopen\u001b[1;34m(self, method, url, redirect, **kw)\u001b[0m\n\u001b[0;32m    374\u001b[0m     response \u001b[38;5;241m=\u001b[39m conn\u001b[38;5;241m.\u001b[39murlopen(method, url, \u001b[38;5;241m*\u001b[39m\u001b[38;5;241m*\u001b[39mkw)\n\u001b[0;32m    375\u001b[0m \u001b[38;5;28;01melse\u001b[39;00m:\n\u001b[1;32m--> 376\u001b[0m     response \u001b[38;5;241m=\u001b[39m conn\u001b[38;5;241m.\u001b[39murlopen(method, u\u001b[38;5;241m.\u001b[39mrequest_uri, \u001b[38;5;241m*\u001b[39m\u001b[38;5;241m*\u001b[39mkw)\n\u001b[0;32m    378\u001b[0m redirect_location \u001b[38;5;241m=\u001b[39m redirect \u001b[38;5;129;01mand\u001b[39;00m response\u001b[38;5;241m.\u001b[39mget_redirect_location()\n\u001b[0;32m    379\u001b[0m \u001b[38;5;28;01mif\u001b[39;00m \u001b[38;5;129;01mnot\u001b[39;00m redirect_location:\n",
      "File \u001b[1;32mE:\\projects\\instapy-and-image-generator\\instaenv\\lib\\site-packages\\urllib3\\connectionpool.py:787\u001b[0m, in \u001b[0;36mHTTPConnectionPool.urlopen\u001b[1;34m(self, method, url, body, headers, retries, redirect, assert_same_host, timeout, pool_timeout, release_conn, chunked, body_pos, **response_kw)\u001b[0m\n\u001b[0;32m    784\u001b[0m \u001b[38;5;28;01melif\u001b[39;00m \u001b[38;5;28misinstance\u001b[39m(e, (SocketError, HTTPException)):\n\u001b[0;32m    785\u001b[0m     e \u001b[38;5;241m=\u001b[39m ProtocolError(\u001b[38;5;124m\"\u001b[39m\u001b[38;5;124mConnection aborted.\u001b[39m\u001b[38;5;124m\"\u001b[39m, e)\n\u001b[1;32m--> 787\u001b[0m retries \u001b[38;5;241m=\u001b[39m \u001b[43mretries\u001b[49m\u001b[38;5;241;43m.\u001b[39;49m\u001b[43mincrement\u001b[49m\u001b[43m(\u001b[49m\n\u001b[0;32m    788\u001b[0m \u001b[43m    \u001b[49m\u001b[43mmethod\u001b[49m\u001b[43m,\u001b[49m\u001b[43m \u001b[49m\u001b[43murl\u001b[49m\u001b[43m,\u001b[49m\u001b[43m \u001b[49m\u001b[43merror\u001b[49m\u001b[38;5;241;43m=\u001b[39;49m\u001b[43me\u001b[49m\u001b[43m,\u001b[49m\u001b[43m \u001b[49m\u001b[43m_pool\u001b[49m\u001b[38;5;241;43m=\u001b[39;49m\u001b[38;5;28;43mself\u001b[39;49m\u001b[43m,\u001b[49m\u001b[43m \u001b[49m\u001b[43m_stacktrace\u001b[49m\u001b[38;5;241;43m=\u001b[39;49m\u001b[43msys\u001b[49m\u001b[38;5;241;43m.\u001b[39;49m\u001b[43mexc_info\u001b[49m\u001b[43m(\u001b[49m\u001b[43m)\u001b[49m\u001b[43m[\u001b[49m\u001b[38;5;241;43m2\u001b[39;49m\u001b[43m]\u001b[49m\n\u001b[0;32m    789\u001b[0m \u001b[43m\u001b[49m\u001b[43m)\u001b[49m\n\u001b[0;32m    790\u001b[0m retries\u001b[38;5;241m.\u001b[39msleep()\n\u001b[0;32m    792\u001b[0m \u001b[38;5;66;03m# Keep track of the error for the retry warning.\u001b[39;00m\n",
      "File \u001b[1;32mE:\\projects\\instapy-and-image-generator\\instaenv\\lib\\site-packages\\urllib3\\util\\retry.py:550\u001b[0m, in \u001b[0;36mRetry.increment\u001b[1;34m(self, method, url, response, error, _pool, _stacktrace)\u001b[0m\n\u001b[0;32m    547\u001b[0m \u001b[38;5;28;01melif\u001b[39;00m error \u001b[38;5;129;01mand\u001b[39;00m \u001b[38;5;28mself\u001b[39m\u001b[38;5;241m.\u001b[39m_is_read_error(error):\n\u001b[0;32m    548\u001b[0m     \u001b[38;5;66;03m# Read retry?\u001b[39;00m\n\u001b[0;32m    549\u001b[0m     \u001b[38;5;28;01mif\u001b[39;00m read \u001b[38;5;129;01mis\u001b[39;00m \u001b[38;5;28;01mFalse\u001b[39;00m \u001b[38;5;129;01mor\u001b[39;00m \u001b[38;5;129;01mnot\u001b[39;00m \u001b[38;5;28mself\u001b[39m\u001b[38;5;241m.\u001b[39m_is_method_retryable(method):\n\u001b[1;32m--> 550\u001b[0m         \u001b[38;5;28;01mraise\u001b[39;00m \u001b[43msix\u001b[49m\u001b[38;5;241;43m.\u001b[39;49m\u001b[43mreraise\u001b[49m\u001b[43m(\u001b[49m\u001b[38;5;28;43mtype\u001b[39;49m\u001b[43m(\u001b[49m\u001b[43merror\u001b[49m\u001b[43m)\u001b[49m\u001b[43m,\u001b[49m\u001b[43m \u001b[49m\u001b[43merror\u001b[49m\u001b[43m,\u001b[49m\u001b[43m \u001b[49m\u001b[43m_stacktrace\u001b[49m\u001b[43m)\u001b[49m\n\u001b[0;32m    551\u001b[0m     \u001b[38;5;28;01melif\u001b[39;00m read \u001b[38;5;129;01mis\u001b[39;00m \u001b[38;5;129;01mnot\u001b[39;00m \u001b[38;5;28;01mNone\u001b[39;00m:\n\u001b[0;32m    552\u001b[0m         read \u001b[38;5;241m-\u001b[39m\u001b[38;5;241m=\u001b[39m \u001b[38;5;241m1\u001b[39m\n",
      "File \u001b[1;32mE:\\projects\\instapy-and-image-generator\\instaenv\\lib\\site-packages\\urllib3\\packages\\six.py:769\u001b[0m, in \u001b[0;36mreraise\u001b[1;34m(tp, value, tb)\u001b[0m\n\u001b[0;32m    767\u001b[0m         value \u001b[38;5;241m=\u001b[39m tp()\n\u001b[0;32m    768\u001b[0m     \u001b[38;5;28;01mif\u001b[39;00m value\u001b[38;5;241m.\u001b[39m__traceback__ \u001b[38;5;129;01mis\u001b[39;00m \u001b[38;5;129;01mnot\u001b[39;00m tb:\n\u001b[1;32m--> 769\u001b[0m         \u001b[38;5;28;01mraise\u001b[39;00m value\u001b[38;5;241m.\u001b[39mwith_traceback(tb)\n\u001b[0;32m    770\u001b[0m     \u001b[38;5;28;01mraise\u001b[39;00m value\n\u001b[0;32m    771\u001b[0m \u001b[38;5;28;01mfinally\u001b[39;00m:\n",
      "File \u001b[1;32mE:\\projects\\instapy-and-image-generator\\instaenv\\lib\\site-packages\\urllib3\\connectionpool.py:703\u001b[0m, in \u001b[0;36mHTTPConnectionPool.urlopen\u001b[1;34m(self, method, url, body, headers, retries, redirect, assert_same_host, timeout, pool_timeout, release_conn, chunked, body_pos, **response_kw)\u001b[0m\n\u001b[0;32m    700\u001b[0m     \u001b[38;5;28mself\u001b[39m\u001b[38;5;241m.\u001b[39m_prepare_proxy(conn)\n\u001b[0;32m    702\u001b[0m \u001b[38;5;66;03m# Make the request on the httplib connection object.\u001b[39;00m\n\u001b[1;32m--> 703\u001b[0m httplib_response \u001b[38;5;241m=\u001b[39m \u001b[38;5;28;43mself\u001b[39;49m\u001b[38;5;241;43m.\u001b[39;49m\u001b[43m_make_request\u001b[49m\u001b[43m(\u001b[49m\n\u001b[0;32m    704\u001b[0m \u001b[43m    \u001b[49m\u001b[43mconn\u001b[49m\u001b[43m,\u001b[49m\n\u001b[0;32m    705\u001b[0m \u001b[43m    \u001b[49m\u001b[43mmethod\u001b[49m\u001b[43m,\u001b[49m\n\u001b[0;32m    706\u001b[0m \u001b[43m    \u001b[49m\u001b[43murl\u001b[49m\u001b[43m,\u001b[49m\n\u001b[0;32m    707\u001b[0m \u001b[43m    \u001b[49m\u001b[43mtimeout\u001b[49m\u001b[38;5;241;43m=\u001b[39;49m\u001b[43mtimeout_obj\u001b[49m\u001b[43m,\u001b[49m\n\u001b[0;32m    708\u001b[0m \u001b[43m    \u001b[49m\u001b[43mbody\u001b[49m\u001b[38;5;241;43m=\u001b[39;49m\u001b[43mbody\u001b[49m\u001b[43m,\u001b[49m\n\u001b[0;32m    709\u001b[0m \u001b[43m    \u001b[49m\u001b[43mheaders\u001b[49m\u001b[38;5;241;43m=\u001b[39;49m\u001b[43mheaders\u001b[49m\u001b[43m,\u001b[49m\n\u001b[0;32m    710\u001b[0m \u001b[43m    \u001b[49m\u001b[43mchunked\u001b[49m\u001b[38;5;241;43m=\u001b[39;49m\u001b[43mchunked\u001b[49m\u001b[43m,\u001b[49m\n\u001b[0;32m    711\u001b[0m \u001b[43m\u001b[49m\u001b[43m)\u001b[49m\n\u001b[0;32m    713\u001b[0m \u001b[38;5;66;03m# If we're going to release the connection in ``finally:``, then\u001b[39;00m\n\u001b[0;32m    714\u001b[0m \u001b[38;5;66;03m# the response doesn't need to know about the connection. Otherwise\u001b[39;00m\n\u001b[0;32m    715\u001b[0m \u001b[38;5;66;03m# it will also try to release it and we'll have a double-release\u001b[39;00m\n\u001b[0;32m    716\u001b[0m \u001b[38;5;66;03m# mess.\u001b[39;00m\n\u001b[0;32m    717\u001b[0m response_conn \u001b[38;5;241m=\u001b[39m conn \u001b[38;5;28;01mif\u001b[39;00m \u001b[38;5;129;01mnot\u001b[39;00m release_conn \u001b[38;5;28;01melse\u001b[39;00m \u001b[38;5;28;01mNone\u001b[39;00m\n",
      "File \u001b[1;32mE:\\projects\\instapy-and-image-generator\\instaenv\\lib\\site-packages\\urllib3\\connectionpool.py:449\u001b[0m, in \u001b[0;36mHTTPConnectionPool._make_request\u001b[1;34m(self, conn, method, url, timeout, chunked, **httplib_request_kw)\u001b[0m\n\u001b[0;32m    444\u001b[0m             httplib_response \u001b[38;5;241m=\u001b[39m conn\u001b[38;5;241m.\u001b[39mgetresponse()\n\u001b[0;32m    445\u001b[0m         \u001b[38;5;28;01mexcept\u001b[39;00m \u001b[38;5;167;01mBaseException\u001b[39;00m \u001b[38;5;28;01mas\u001b[39;00m e:\n\u001b[0;32m    446\u001b[0m             \u001b[38;5;66;03m# Remove the TypeError from the exception chain in\u001b[39;00m\n\u001b[0;32m    447\u001b[0m             \u001b[38;5;66;03m# Python 3 (including for exceptions like SystemExit).\u001b[39;00m\n\u001b[0;32m    448\u001b[0m             \u001b[38;5;66;03m# Otherwise it looks like a bug in the code.\u001b[39;00m\n\u001b[1;32m--> 449\u001b[0m             \u001b[43msix\u001b[49m\u001b[38;5;241;43m.\u001b[39;49m\u001b[43mraise_from\u001b[49m\u001b[43m(\u001b[49m\u001b[43me\u001b[49m\u001b[43m,\u001b[49m\u001b[43m \u001b[49m\u001b[38;5;28;43;01mNone\u001b[39;49;00m\u001b[43m)\u001b[49m\n\u001b[0;32m    450\u001b[0m \u001b[38;5;28;01mexcept\u001b[39;00m (SocketTimeout, BaseSSLError, SocketError) \u001b[38;5;28;01mas\u001b[39;00m e:\n\u001b[0;32m    451\u001b[0m     \u001b[38;5;28mself\u001b[39m\u001b[38;5;241m.\u001b[39m_raise_timeout(err\u001b[38;5;241m=\u001b[39me, url\u001b[38;5;241m=\u001b[39murl, timeout_value\u001b[38;5;241m=\u001b[39mread_timeout)\n",
      "File \u001b[1;32m<string>:3\u001b[0m, in \u001b[0;36mraise_from\u001b[1;34m(value, from_value)\u001b[0m\n",
      "File \u001b[1;32mE:\\projects\\instapy-and-image-generator\\instaenv\\lib\\site-packages\\urllib3\\connectionpool.py:444\u001b[0m, in \u001b[0;36mHTTPConnectionPool._make_request\u001b[1;34m(self, conn, method, url, timeout, chunked, **httplib_request_kw)\u001b[0m\n\u001b[0;32m    441\u001b[0m \u001b[38;5;28;01mexcept\u001b[39;00m \u001b[38;5;167;01mTypeError\u001b[39;00m:\n\u001b[0;32m    442\u001b[0m     \u001b[38;5;66;03m# Python 3\u001b[39;00m\n\u001b[0;32m    443\u001b[0m     \u001b[38;5;28;01mtry\u001b[39;00m:\n\u001b[1;32m--> 444\u001b[0m         httplib_response \u001b[38;5;241m=\u001b[39m \u001b[43mconn\u001b[49m\u001b[38;5;241;43m.\u001b[39;49m\u001b[43mgetresponse\u001b[49m\u001b[43m(\u001b[49m\u001b[43m)\u001b[49m\n\u001b[0;32m    445\u001b[0m     \u001b[38;5;28;01mexcept\u001b[39;00m \u001b[38;5;167;01mBaseException\u001b[39;00m \u001b[38;5;28;01mas\u001b[39;00m e:\n\u001b[0;32m    446\u001b[0m         \u001b[38;5;66;03m# Remove the TypeError from the exception chain in\u001b[39;00m\n\u001b[0;32m    447\u001b[0m         \u001b[38;5;66;03m# Python 3 (including for exceptions like SystemExit).\u001b[39;00m\n\u001b[0;32m    448\u001b[0m         \u001b[38;5;66;03m# Otherwise it looks like a bug in the code.\u001b[39;00m\n\u001b[0;32m    449\u001b[0m         six\u001b[38;5;241m.\u001b[39mraise_from(e, \u001b[38;5;28;01mNone\u001b[39;00m)\n",
      "File \u001b[1;32m~\\anaconda3\\lib\\http\\client.py:1377\u001b[0m, in \u001b[0;36mHTTPConnection.getresponse\u001b[1;34m(self)\u001b[0m\n\u001b[0;32m   1375\u001b[0m \u001b[38;5;28;01mtry\u001b[39;00m:\n\u001b[0;32m   1376\u001b[0m     \u001b[38;5;28;01mtry\u001b[39;00m:\n\u001b[1;32m-> 1377\u001b[0m         \u001b[43mresponse\u001b[49m\u001b[38;5;241;43m.\u001b[39;49m\u001b[43mbegin\u001b[49m\u001b[43m(\u001b[49m\u001b[43m)\u001b[49m\n\u001b[0;32m   1378\u001b[0m     \u001b[38;5;28;01mexcept\u001b[39;00m \u001b[38;5;167;01mConnectionError\u001b[39;00m:\n\u001b[0;32m   1379\u001b[0m         \u001b[38;5;28mself\u001b[39m\u001b[38;5;241m.\u001b[39mclose()\n",
      "File \u001b[1;32m~\\anaconda3\\lib\\http\\client.py:320\u001b[0m, in \u001b[0;36mHTTPResponse.begin\u001b[1;34m(self)\u001b[0m\n\u001b[0;32m    318\u001b[0m \u001b[38;5;66;03m# read until we get a non-100 response\u001b[39;00m\n\u001b[0;32m    319\u001b[0m \u001b[38;5;28;01mwhile\u001b[39;00m \u001b[38;5;28;01mTrue\u001b[39;00m:\n\u001b[1;32m--> 320\u001b[0m     version, status, reason \u001b[38;5;241m=\u001b[39m \u001b[38;5;28;43mself\u001b[39;49m\u001b[38;5;241;43m.\u001b[39;49m\u001b[43m_read_status\u001b[49m\u001b[43m(\u001b[49m\u001b[43m)\u001b[49m\n\u001b[0;32m    321\u001b[0m     \u001b[38;5;28;01mif\u001b[39;00m status \u001b[38;5;241m!=\u001b[39m CONTINUE:\n\u001b[0;32m    322\u001b[0m         \u001b[38;5;28;01mbreak\u001b[39;00m\n",
      "File \u001b[1;32m~\\anaconda3\\lib\\http\\client.py:281\u001b[0m, in \u001b[0;36mHTTPResponse._read_status\u001b[1;34m(self)\u001b[0m\n\u001b[0;32m    280\u001b[0m \u001b[38;5;28;01mdef\u001b[39;00m \u001b[38;5;21m_read_status\u001b[39m(\u001b[38;5;28mself\u001b[39m):\n\u001b[1;32m--> 281\u001b[0m     line \u001b[38;5;241m=\u001b[39m \u001b[38;5;28mstr\u001b[39m(\u001b[38;5;28;43mself\u001b[39;49m\u001b[38;5;241;43m.\u001b[39;49m\u001b[43mfp\u001b[49m\u001b[38;5;241;43m.\u001b[39;49m\u001b[43mreadline\u001b[49m\u001b[43m(\u001b[49m\u001b[43m_MAXLINE\u001b[49m\u001b[43m \u001b[49m\u001b[38;5;241;43m+\u001b[39;49m\u001b[43m \u001b[49m\u001b[38;5;241;43m1\u001b[39;49m\u001b[43m)\u001b[49m, \u001b[38;5;124m\"\u001b[39m\u001b[38;5;124miso-8859-1\u001b[39m\u001b[38;5;124m\"\u001b[39m)\n\u001b[0;32m    282\u001b[0m     \u001b[38;5;28;01mif\u001b[39;00m \u001b[38;5;28mlen\u001b[39m(line) \u001b[38;5;241m>\u001b[39m _MAXLINE:\n\u001b[0;32m    283\u001b[0m         \u001b[38;5;28;01mraise\u001b[39;00m LineTooLong(\u001b[38;5;124m\"\u001b[39m\u001b[38;5;124mstatus line\u001b[39m\u001b[38;5;124m\"\u001b[39m)\n",
      "File \u001b[1;32m~\\anaconda3\\lib\\socket.py:704\u001b[0m, in \u001b[0;36mSocketIO.readinto\u001b[1;34m(self, b)\u001b[0m\n\u001b[0;32m    702\u001b[0m \u001b[38;5;28;01mwhile\u001b[39;00m \u001b[38;5;28;01mTrue\u001b[39;00m:\n\u001b[0;32m    703\u001b[0m     \u001b[38;5;28;01mtry\u001b[39;00m:\n\u001b[1;32m--> 704\u001b[0m         \u001b[38;5;28;01mreturn\u001b[39;00m \u001b[38;5;28;43mself\u001b[39;49m\u001b[38;5;241;43m.\u001b[39;49m\u001b[43m_sock\u001b[49m\u001b[38;5;241;43m.\u001b[39;49m\u001b[43mrecv_into\u001b[49m\u001b[43m(\u001b[49m\u001b[43mb\u001b[49m\u001b[43m)\u001b[49m\n\u001b[0;32m    705\u001b[0m     \u001b[38;5;28;01mexcept\u001b[39;00m timeout:\n\u001b[0;32m    706\u001b[0m         \u001b[38;5;28mself\u001b[39m\u001b[38;5;241m.\u001b[39m_timeout_occurred \u001b[38;5;241m=\u001b[39m \u001b[38;5;28;01mTrue\u001b[39;00m\n",
      "\u001b[1;31mProtocolError\u001b[0m: ('Connection aborted.', ConnectionResetError(10054, 'An existing connection was forcibly closed by the remote host', None, 10054, None))"
     ]
    }
   ],
   "source": [
    "button=driver.find_element(By.XPATH, '//button[@role=\"menuitem\"]')\n",
    "button.click()"
   ]
  },
  {
   "cell_type": "code",
   "execution_count": 42,
   "id": "fab83973",
   "metadata": {},
   "outputs": [
    {
     "name": "stdout",
     "output_type": "stream",
     "text": [
      "Www.billionaire.com8\n"
     ]
    },
    {
     "data": {
      "text/plain": [
       "True"
      ]
     },
     "execution_count": 42,
     "metadata": {},
     "output_type": "execute_result"
    }
   ],
   "source": [
    "### Instagrapi version:\n",
    "\n",
    "from instagrapi import Client\n",
    "from pathlib import Path\n",
    "from instagrapi.types import StoryMention, StoryMedia, StoryLink, StoryHashtag\n",
    "\n",
    "cl = Client()\n",
    "username = '0727292100'\n",
    "password = read_password_file('./.pass')[0]\n",
    "print(password)\n",
    "\n",
    "cl.login(username, password)\n",
    "\n",
    "\n"
   ]
  },
  {
   "cell_type": "code",
   "execution_count": 57,
   "id": "ae6d7357",
   "metadata": {},
   "outputs": [
    {
     "data": {
      "text/plain": [
       "Story(pk='2976576291743181913', id='2976576291743181913_56715091575', code='ClO7F3kM6xZ', taken_at=datetime.datetime(2022, 11, 21, 18, 32, 39, tzinfo=datetime.timezone.utc), media_type=1, product_type='story', thumbnail_url=HttpUrl('https://instagram.fcra1-1.fna.fbcdn.net/v/t51.2885-15/316568953_837542557596445_1755640079100010784_n.jpg?se=7&stp=dst-jpg_e35&_nc_ht=instagram.fcra1-1.fna.fbcdn.net&_nc_cat=101&_nc_ohc=EhI8wq-08tcAX8--Nrv&edm=AO5kzY0BAAAA&ccb=7-5&ig_cache_key=Mjk3NjU3NjI5MTc0MzE4MTkxMw%3D%3D.2-ccb7-5&oh=00_AfACtL5RFyf6dffZ6O_DMHzxyJoshO7G301XhzVAVcrbaw&oe=637D4861&_nc_sid=560b88', ), user=UserShort(pk='56715091575', username='motivation_blu', full_name='Motivation Blu', profile_pic_url=HttpUrl('https://instagram.fcra1-1.fna.fbcdn.net/v/t51.2885-19/316147165_1186709902280929_6994208407388324686_n.jpg?stp=dst-jpg_s150x150&_nc_ht=instagram.fcra1-1.fna.fbcdn.net&_nc_cat=101&_nc_ohc=zlLwfov_PJkAX90x5PU&edm=AO5kzY0BAAAA&ccb=7-5&oh=00_AfBo1oBJxRoXpdMuNaD-9A8xBvXQEfej7HOsK9xnNF_PmA&oe=63816D87&_nc_sid=560b88', ), profile_pic_url_hd=None, is_private=False, stories=[]), video_url=None, video_duration=0.0, sponsor_tags=[], mentions=[], links=[StoryLink(webUri=HttpUrl('https://medianopol.ro', ), x=0.5126011, y=0.5168225, z=0.0, width=0.50998676, height=0.25875, rotation=0.0)], hashtags=[StoryHashtag(hashtag=Hashtag(id='17841533242086127', name='motivationzzz', media_count=4, profile_pic_url=None), x=0.23, y=0.32, width=0.5, height=0.22)], locations=[], stickers=[], medias=[])"
      ]
     },
     "execution_count": 57,
     "metadata": {},
     "output_type": "execute_result"
    }
   ],
   "source": [
    "# media = cl.photo_upload(\n",
    "#     \"E:\\\\projects\\\\instapy-and-image-generator\\\\result.png\",\n",
    "#     message)\n",
    "\n",
    "path = \".\\\\result.jpg\"\n",
    "# path = Path('.\\\\result.png')\n",
    "\n",
    "\n",
    "\n",
    "cl.photo_upload_to_story(path)\n",
    "\n",
    "# media_pk = cl.media_pk_from_url('https://www.instagram.com/p/CjXgD5MggrV/')\n",
    "# # media_path = cl.video_download(media_pk)\n",
    "# media_path = 'E:\\\\projects\\\\instapy-and-image-generator\\\\result.png'\n",
    "# adw0rd = cl.user_info_by_username(username)\n",
    "# hashtag = cl.hashtag_info('motivational')\n",
    "\n",
    "# cl.video_upload_to_story(\n",
    "#     media_path,\n",
    "#     \"Credits @motivation_blu\",\n",
    "#     mentions=[StoryMention(user=adw0rd, x=0.49892962, y=0.703125, width=0.8333333333333334, height=0.125)],\n",
    "#     links=[StoryLink(webUri='https://medianopol.ro')],\n",
    "#     hashtags=[StoryHashtag(hashtag=hashtag, x=0.23, y=0.32, width=0.5, height=0.22)],\n",
    "#     medias=[StoryMedia(media_pk=media, x=0.5, y=0.5, width=0.6, height=0.8)]\n",
    "# )\n"
   ]
  },
  {
   "cell_type": "code",
   "execution_count": 51,
   "id": "db19b131",
   "metadata": {},
   "outputs": [
    {
     "name": "stdout",
     "output_type": "stream",
     "text": [
      "8fw9l6T3Vqs https://unsplash.com/photos/8fw9l6T3Vqs/download?ixid=MnwzODIwNzJ8MHwxfHJhbmRvbXx8fHx8fHx8fDE2NjkwNTM4NDE\n"
     ]
    }
   ],
   "source": [
    "get_image_from_unsplash()\n",
    "create_image_with_message(message500, 'story')"
   ]
  },
  {
   "cell_type": "code",
   "execution_count": 95,
   "id": "8066742f",
   "metadata": {},
   "outputs": [
    {
     "name": "stdout",
     "output_type": "stream",
     "text": [
      "Genius is one percent inspiration and ninety-nine percent perspiration. -Thomas Edison\n"
     ]
    }
   ],
   "source": [
    "import requests\n",
    "import json\n",
    "\n",
    "url = \"https://type.fit/api/quotes\"\n",
    "\n",
    "\n",
    "\n",
    "response = requests.request(\"GET\", url)\n",
    "\n",
    "try:\n",
    "    if response.status_code == 200:\n",
    "        ## extracting the core data\n",
    "        json_data = response.json()\n",
    "        data = json_data\n",
    "        ## getting the quote from the data\n",
    "        print(data[0]['text'] + ' -' + data[0]['author'])\n",
    "    else:\n",
    "        print(\"Error while getting quote\")\n",
    "except Exception as e:\n",
    "    print(\"Something went wrong! Try Again!\", e)\n"
   ]
  },
  {
   "cell_type": "code",
   "execution_count": 142,
   "id": "ae3c7351",
   "metadata": {},
   "outputs": [
    {
     "name": "stdout",
     "output_type": "stream",
     "text": [
      "https://quote-garden.herokuapp.com/api/v3/quotes?genre=friendship\n"
     ]
    },
    {
     "data": {
      "text/plain": [
       "'I value the friend who for me finds time on his calendar, but I cherish the friend who for me does not consult his calendar. -Robert Brault'"
      ]
     },
     "execution_count": 142,
     "metadata": {},
     "output_type": "execute_result"
    }
   ],
   "source": [
    "def get_random_quote():\n",
    "    url_array = ['https://quote-garden.herokuapp.com/api/v3/quotes?genre=motivational', \n",
    "                'https://quote-garden.herokuapp.com/api/v3/quotes?genre=happiness', \n",
    "                'https://quote-garden.herokuapp.com/api/v3/quotes?genre=time', \n",
    "                'https://quote-garden.herokuapp.com/api/v3/quotes?genre=inspirational', \n",
    "                'https://quote-garden.herokuapp.com/api/v3/quotes?genre=success', \n",
    "                'https://quote-garden.herokuapp.com/api/v3/quotes?genre=power', \n",
    "                'https://quote-garden.herokuapp.com/api/v3/quotes?genre=science', \n",
    "                'https://quote-garden.herokuapp.com/api/v3/quotes?genre=patience', \n",
    "                'https://quote-garden.herokuapp.com/api/v3/quotes?genre=friendship']\n",
    " \n",
    "    random_url = url_array[randint(0,len(url_array)-1)]\n",
    "    print(random_url)\n",
    "    try:\n",
    "        quote_len_under_500 = False\n",
    "        while(not quote_len_under_500):\n",
    "            ## making the get request\n",
    "            response = requests.get(random_url)\n",
    "            if response.status_code == 200:\n",
    "                ## extracting the core data\n",
    "                json_data = response.json()\n",
    "                data = json_data['data']\n",
    "\n",
    "                ## getting the quote from the data\n",
    "                quote = data[0]['quoteText']\n",
    "                author = data[0]['quoteAuthor']\n",
    "                if len(quote) < 501:\n",
    "                    quote_len_under_500 = True\n",
    "                    return (quote, author)\n",
    "                else:\n",
    "                    print('Quote is too long, fetching another one')\n",
    "            else:\n",
    "                print(\"Error while getting quote\")\n",
    "    except Exception as e:\n",
    "        print(\"Something went wrong! Try Again! Exception was: \", e)\n",
    "\n",
    "\n",
    "get_random_quote()"
   ]
  },
  {
   "cell_type": "code",
   "execution_count": 176,
   "id": "23472b50",
   "metadata": {},
   "outputs": [
    {
     "name": "stdout",
     "output_type": "stream",
     "text": [
      "Today date is:  2022-11-22\n",
      "{'current_id': 52, 'stories_posted': 6, 'posts_posted': 1, 'todays_date': '2022-11-22', 'reset_to_next_day': False}\n",
      "<class 'dict'>\n",
      "<class 'str'>\n",
      "ceplm\n",
      "post not posted because it is: 1\n",
      "story not posted because it is: 6\n",
      "{'current_id': 53, 'stories_posted': 6, 'posts_posted': 1, 'todays_date': '2022-11-22', 'reset_to_next_day': False}\n"
     ]
    }
   ],
   "source": [
    "from random import randint\n",
    "from datetime import date\n",
    " \n",
    "# Returns the current local date\n",
    "today = str(date.today())\n",
    "print(\"Today date is: \", today)\n",
    "\n",
    "with open('status.json', 'r') as openfile:\n",
    "    # Reading from json file\n",
    "    status_object = json.load(openfile)\n",
    " \n",
    "print(status_object)\n",
    "print(type(status_object))\n",
    "\n",
    "\n",
    "print(type(today))\n",
    "# status_object['todays_date'] = today\n",
    "\n",
    "if(status_object['todays_date'] != today):\n",
    "    status_object[\"reset_to_next_day\"] = True\n",
    "    if (status_object[\"reset_to_next_day\"] == True):\n",
    "        status_object['todays_date'] = today\n",
    "        status_object[\"reset_to_next_day\"] = False\n",
    "        \n",
    "        status_object[\"stories_posted\"] = 0\n",
    "        status_object[\"posts_posted\"] = 0\n",
    "    print('aaaaolo')\n",
    "else:\n",
    "    status_object[\"reset_to_next_day\"] = False\n",
    "    print('ceplm')\n",
    "\n",
    "if int(status_object[\"posts_posted\"]) is 0:\n",
    "    print('posting post')\n",
    "    status_object[\"posts_posted\"] = int(status_object[\"posts_posted\"]) + 1\n",
    "    pass\n",
    "else:\n",
    "    print(\"post not posted because it is:\", int(status_object[\"posts_posted\"]))\n",
    "    \n",
    "randomNumber = randint(3,6)\n",
    "\n",
    "if int(status_object[\"stories_posted\"]) < randomNumber:\n",
    "    print('posting story')\n",
    "    status_object[\"stories_posted\"] = int(status_object[\"stories_posted\"]) + 1\n",
    "    pass\n",
    "else:\n",
    "    print(\"story not posted because it is:\", int(status_object[\"stories_posted\"]))\n",
    "#story\n",
    "\n",
    "status_object['current_id'] = int(status_object['current_id']) + 1\n",
    "print(status_object)\n",
    "\n",
    "\n",
    "status_object = json.dumps(status_object, indent=4)\n",
    "with open(\"status.json\", \"w\") as outfile:\n",
    "    outfile.write(status_object)\n"
   ]
  },
  {
   "cell_type": "code",
   "execution_count": null,
   "id": "25060797",
   "metadata": {},
   "outputs": [],
   "source": []
  },
  {
   "cell_type": "code",
   "execution_count": null,
   "id": "4391896a",
   "metadata": {},
   "outputs": [],
   "source": []
  },
  {
   "cell_type": "code",
   "execution_count": null,
   "id": "228e3be6",
   "metadata": {},
   "outputs": [],
   "source": []
  }
 ],
 "metadata": {
  "kernelspec": {
   "display_name": "Python 3 (ipykernel)",
   "language": "python",
   "name": "python3"
  },
  "language_info": {
   "codemirror_mode": {
    "name": "ipython",
    "version": 3
   },
   "file_extension": ".py",
   "mimetype": "text/x-python",
   "name": "python",
   "nbconvert_exporter": "python",
   "pygments_lexer": "ipython3",
   "version": "3.9.13"
  }
 },
 "nbformat": 4,
 "nbformat_minor": 5
}
