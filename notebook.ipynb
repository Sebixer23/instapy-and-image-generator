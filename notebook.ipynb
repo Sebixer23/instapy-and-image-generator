{
 "cells": [
  {
   "cell_type": "code",
   "execution_count": 112,
   "id": "a555e61d",
   "metadata": {},
   "outputs": [
    {
     "name": "stdout",
     "output_type": "stream",
     "text": [
      "message has the following number of characters: 325\n"
     ]
    }
   ],
   "source": [
    "from imgs import *  # gets all functions and their names\n",
    "import time\n",
    "from selenium import webdriver\n",
    "from webdriver_manager.chrome import ChromeDriverManager\n",
    "from selenium.webdriver.chrome.service import Service\n",
    "from selenium.webdriver.common.by import By\n",
    "import pyautogui\n",
    "\n",
    "\n",
    "def read_password_file(filepath):\n",
    "    \"\"\"\n",
    "    Read and return the user/password file.\n",
    "    \"\"\"\n",
    "    try:\n",
    "        with open(filepath, 'r') as fd:\n",
    "            lines = fd.readlines()\n",
    "            fd.close()\n",
    "            return lines\n",
    "    except IOError:\n",
    "        raise ValueError(\"Can't open password file for reading.\")\n",
    "\n",
    "\n",
    "message = \\\n",
    "    \"Alwaysaa try to end the day with a positiveday with a positiveday with a positive thought. No matter how hard as df  asdfas dfas asdf a things are, tomorrow is a fresh opportunity to make everything better.\"\n",
    "\n",
    "message2 = \"When you say you suffer from a physical illness, you get sympathy. When you say you suffer from depression, you sometimes get blamed. We know it sucks, but at the very least, please take solace in the fact that you are not alone – as evidenced by the fact that 350 million people in the world struggle with depression.\"\n",
    "\n",
    "message3 = 'asdf asdf asdf asdf asdf asdf asdf asdf asdf asdf asdf asdf asdf asdf asdf asdf asdf asdf asdf qwe qwer qwer qwer qwer qwer asdf asdf asdf qwer qwef qwef qwef asdf asdf qwef qwefq wef qwef asdf asdf qwef asdf awef awefa wef awef awef asdf asdf asd fasd fasdf asdf asdf '\n",
    "message4 = 'Alwaysaa try to end the day with a positiveday with a positiveday with a positive thought. No matter how hard as df'\n",
    "message5 = 'giochero per vincere niggas be niggas all the time no cap we strong brosefinos leggo my birtth light'\n",
    "message25 = \"Lorem ipsum dolor sit ame\"\n",
    "message50 = \"Lorem ipsum dolor sit amet, consectetuer adipiscin\"\n",
    "message120 = \"Lorem ipsum dolor sit amet, consectetuer adipiscing elit. Aenean commodo ligula eget dolor. Aenean massa. Cum sociis nat\"  # average quote size\n",
    "message220 = 'Lorem ipsum dolor sit amet, consectetueradipiscing welit. Aenean commodo ligula eget dolor. Aenean massa. Cum sociis natoque penatibus et magnis dis parturient montes, nascetur ridiculus mus. Donec quam felis, ultricies.'\n",
    "message260 = 'Lorem ipsum dolor sit amet, consectetuer adipiscing elit. Aenean commodo ligula eget dolor. Aenean massa. Cum sociis natoque penatibus et magnis dis parturient montes, nascetur ridiculus mus. Donec quam felis, ultricies nec, pellentesque eu, pretium quis, sem.'\n",
    "message325 = 'Lorem ipsum dolor sit amet, consectetuer adipiscing elit. Aenean commodo ligula eget dolor. Aenean massa. Cum sociis natoque penatibus et magnis dis parturient montes, nascetur ridiculus mus. Donec quam felis, ultricies nec, pellentesque eu, pretium quis, sem. Nulla consequat massa quis enim. Donec pede justo, fringilla vel'\n",
    "message500 = 'Lorem ipsum dolor sit amet, consectetuer adipiscing elit. Aenean commodo ligula eget dolor. Aenean massa. Cum sociis natoque penatibus et magnis dis parturient montes, nascetur ridiculus mus. Donec quam felis, ultricies nec, pellentesque eu, pretium quis, sem. Nulla consequat massa quis enim. Donec pede justo, fringilla vel, aliquet nec, vulputate eget, arcu. In enim justo, rhoncus ut, imperdiet a, venenatis vitae, justo. Nullam dictum felis eu pede mollis pretium. Integer tincidunt. Cras dapibu'\n",
    "print('message has the following number of characters:', len(message325))\n",
    "\n",
    "# up to 260 incl. fontsize: 72, width 20\n",
    "# up to 120 incl. fontsize: 72, width 16\n",
    "\n",
    "# run program:\n",
    "\n",
    "# get_image_from_unsplash()\n",
    "# # create_image_with_message(message50, 'post')\n",
    "# create_image_with_message(message500, 'story')\n",
    "\n",
    "\n"
   ]
  },
  {
   "cell_type": "code",
   "execution_count": 113,
   "id": "6aa1c257",
   "metadata": {},
   "outputs": [],
   "source": [
    "chrome_options = webdriver.ChromeOptions()\n",
    "chrome_options.add_argument('--user-agent=\"Mozilla/5.0 (Windows Phone 10.0; Android 4.2.1; Microsoft; Lumia 640 XL LTE) AppleWebKit/537.36 (KHTML, like Gecko) Chrome/42.0.2311.135 Mobile Safari/537.36 Edge/12.10166\"')\n",
    "\n",
    "driver = webdriver.Chrome(options=chrome_options, service=Service(ChromeDriverManager().install()))\n",
    "driver.set_window_size(200, 1080)\n",
    "\n",
    "driver.get(\"https://www.instagram.com/\")\n",
    "time.sleep(5)\n",
    "\n"
   ]
  },
  {
   "cell_type": "code",
   "execution_count": 105,
   "id": "87d26a00",
   "metadata": {},
   "outputs": [],
   "source": [
    "allow_essential_cookies = driver.find_element(By.XPATH, \"/html/body/div[1]/div/div/div/div[2]/div/div/div[1]/div/div[2]/div/div/div/div/div[2]/div/div[3]/div[2]/button\")\n",
    "allow_essential_cookies.click()"
   ]
  },
  {
   "cell_type": "code",
   "execution_count": 106,
   "id": "324e144c",
   "metadata": {},
   "outputs": [],
   "source": [
    "# do not dw app, clikc on login\n",
    "login_button = driver.find_element(By.XPATH, '/html/body/div[1]/div/div/div/div[1]/div/div/div/div[1]/section/main/article/div/div/div[2]/div[3]/button[1]')\n",
    "login_button.click()"
   ]
  },
  {
   "cell_type": "code",
   "execution_count": 114,
   "id": "3d9b49bb",
   "metadata": {
    "scrolled": true
   },
   "outputs": [],
   "source": [
    "my_email=driver.find_element(By.XPATH, '/html/body/div[1]/div/div/div/div[1]/div/div/div/div[1]/section/main/article/div/div/div[2]/form/div[1]/div[3]/div/label/input')\n",
    "my_email.send_keys(\"motivation_blu\")\n",
    "\n",
    "my_password=driver.find_element(By.XPATH, '/html/body/div[1]/div/div/div/div[1]/div/div/div/div[1]/section/main/article/div/div/div[2]/form/div[1]/div[4]/div/label/input')\n",
    "my_password.send_keys(read_password_file('./.pass'))\n",
    "time.sleep(3)\n",
    "\n",
    "login=driver.find_element(By.XPATH, '/html/body/div[1]/div/div/div/div[1]/div/div/div/div[1]/section/main/article/div/div/div[2]/form/div[1]/div[6]/button')\n",
    "login.click()\n",
    "\n",
    "time.sleep(5)\n"
   ]
  },
  {
   "cell_type": "code",
   "execution_count": 115,
   "id": "3f624f1b",
   "metadata": {},
   "outputs": [],
   "source": [
    "# do not save login info, click on not now\n",
    "login = driver.find_element(By.XPATH, '/html/body/div[1]/div/div/div/div[1]/div/div/div/div[1]/section/main/div/div/div/button')\n",
    "login.click()"
   ]
  },
  {
   "cell_type": "code",
   "execution_count": 22,
   "id": "26dabc62",
   "metadata": {},
   "outputs": [],
   "source": [
    "upload=driver.find_element(By.XPATH, '//*[@id=\"mount_0_0_eM\"]/div/div/div/div[1]/div/div/div/div[1]/div[1]/div[1]/div/div/div/div/div[2]/div[6]/div/div/a/div/div[2]/div/div')\n",
    "upload.click()\n",
    "time.sleep(2)\n"
   ]
  },
  {
   "cell_type": "code",
   "execution_count": 74,
   "id": "c29b0767",
   "metadata": {},
   "outputs": [],
   "source": [
    "# click upload button menu\n",
    "img_upload=driver.find_element(By.XPATH, '/html/body/div[1]/div/div/div/div[1]/div/div/div/div[1]/section/nav[1]/div/header/div/div/div[1]/div[1]/div[2]/a/div/div')\n",
    "img_upload.click()\n",
    "time.sleep(3)\n",
    "# now click on post\n",
    "img_upload=driver.find_element(By.XPATH, '/html/body/div[1]/div/div/div/div[1]/div/div/div/div[1]/section/nav[1]/div/header/div/div/div[1]/div[1]/div[1]/div/div/div[1]/div[1]/div/div[1]/div/div/div/div')\n",
    "img_upload.click()\n",
    "time.sleep(2)\n",
    "path = 'E:\\\\projects\\\\instapy-and-image-generator\\\\result.png' # your imagepath\n",
    "# img_upload.send_keys(path)\n",
    "# pyautogui.write(path, interval=0.05) \n",
    "open_window = pyautogui.getWindowsWithTitle(\"Open\")[0]\n",
    "open_window.maximize()\n",
    "pyautogui.click(open_window.center)\n",
    "pyautogui.write(path) \n",
    "time.sleep(2)\n",
    "pyautogui.press('enter')"
   ]
  },
  {
   "cell_type": "code",
   "execution_count": 75,
   "id": "245a8f46",
   "metadata": {},
   "outputs": [],
   "source": [
    "# click next\n",
    "img_upload=driver.find_element(By.XPATH, '/html/body/div[1]/div/div/div/div[1]/div/div/div/div[1]/div[1]/section/div[1]/header/div/div[2]/button')\n",
    "img_upload.click()\n",
    "time.sleep(2)\n"
   ]
  },
  {
   "cell_type": "code",
   "execution_count": 76,
   "id": "232023e1",
   "metadata": {},
   "outputs": [],
   "source": [
    "# write caption\n",
    "img_upload=driver.find_element(By.XPATH, '/html/body/div[1]/div/div/div/div[1]/div/div/div/div[1]/div[1]/section/div[2]/section[1]/div[1]/textarea')\n",
    "img_upload.click()\n",
    "img_upload.send_keys(message)\n",
    "img_upload.send_keys('\\n\\n #motivational #quoteoftheday #motivationalquotes #motivation #quotes #inspiration #success #mindset #inspirationalquotes #love #positivity')\n",
    "time.sleep(2)\n",
    "\n",
    "\n"
   ]
  },
  {
   "cell_type": "code",
   "execution_count": 58,
   "id": "dd0fb568",
   "metadata": {},
   "outputs": [],
   "source": []
  },
  {
   "cell_type": "code",
   "execution_count": 77,
   "id": "f8288d18",
   "metadata": {},
   "outputs": [],
   "source": [
    "# share post\n",
    "img_upload=driver.find_element(By.XPATH, '/html/body/div[1]/div/div/div/div[1]/div/div/div/div[1]/div[1]/section/div[1]/header/div/div[2]/button')\n",
    "img_upload.click()\n",
    "time.sleep(2)\n"
   ]
  },
  {
   "cell_type": "code",
   "execution_count": 111,
   "id": "3913c43c",
   "metadata": {},
   "outputs": [],
   "source": [
    "# share story\n",
    "img_upload = driver.find_element(By.XPATH, '/html/body/div[1]/div/div/div/div[1]/div/div/div/div[1]/section/main/div[1]/section/div/div[2]/div/div/div/div[1]/button')\n",
    "img_upload.click()\n",
    "time.sleep(2)\n",
    "path = 'E:\\\\projects\\\\instapy-and-image-generator\\\\result.png' # your imagepath\n",
    "# img_upload.send_keys(path)\n",
    "# pyautogui.write(path, interval=0.05) \n",
    "open_window = pyautogui.getWindowsWithTitle(\"Open\")[0]\n",
    "open_window.maximize()\n",
    "pyautogui.click(open_window.center)\n",
    "pyautogui.write(path) \n",
    "time.sleep(2)\n",
    "pyautogui.press('enter')"
   ]
  },
  {
   "cell_type": "code",
   "execution_count": null,
   "id": "a93ca4fe",
   "metadata": {},
   "outputs": [],
   "source": []
  }
 ],
 "metadata": {
  "kernelspec": {
   "display_name": "Python 3 (ipykernel)",
   "language": "python",
   "name": "python3"
  },
  "language_info": {
   "codemirror_mode": {
    "name": "ipython",
    "version": 3
   },
   "file_extension": ".py",
   "mimetype": "text/x-python",
   "name": "python",
   "nbconvert_exporter": "python",
   "pygments_lexer": "ipython3",
   "version": "3.9.13"
  }
 },
 "nbformat": 4,
 "nbformat_minor": 5
}
