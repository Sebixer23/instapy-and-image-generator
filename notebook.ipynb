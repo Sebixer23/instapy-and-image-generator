{
 "cells": [
  {
   "cell_type": "code",
   "execution_count": 1,
   "id": "157b1b05",
   "metadata": {},
   "outputs": [
    {
     "name": "stdout",
     "output_type": "stream",
     "text": [
      "message has the following number of characters: 325\n"
     ]
    }
   ],
   "source": [
    "from imgs import *  # gets all functions and their names\n",
    "import time\n",
    "from selenium import webdriver\n",
    "from webdriver_manager.chrome import ChromeDriverManager\n",
    "from selenium.webdriver.chrome.service import Service\n",
    "from selenium.webdriver.common.by import By\n",
    "import pyautogui\n",
    "import undetected_chromedriver as uc\n",
    "\n",
    "\n",
    "def read_password_file(filepath):\n",
    "    \"\"\"\n",
    "    Read and return the user/password file.\n",
    "    \"\"\"\n",
    "    try:\n",
    "        with open(filepath, 'r') as fd:\n",
    "            lines = fd.readlines()\n",
    "            fd.close()\n",
    "            return lines\n",
    "    except IOError:\n",
    "        raise ValueError(\"Can't open password file for reading.\")\n",
    "\n",
    "\n",
    "message = \\\n",
    "    \"Alwaysaa try to end the day with a positiveday with a positiveday with a positive thought. No matter how hard as df  asdfas dfas asdf a things are, tomorrow is a fresh opportunity to make everything better.\"\n",
    "\n",
    "\n",
    "message25 = \"Lorem ipsum dolor sit ame\"\n",
    "message50 = \"Lorem ipsum dolor sit amet, consectetuer adipiscin\"\n",
    "message120 = \"Lorem ipsum dolor sit amet, consectetuer adipiscing elit. Aenean commodo ligula eget dolor. Aenean massa. Cum sociis nat\"  # average quote size\n",
    "message220 = 'Lorem ipsum dolor sit amet, consectetueradipiscing welit. Aenean commodo ligula eget dolor. Aenean massa. Cum sociis natoque penatibus et magnis dis parturient montes, nascetur ridiculus mus. Donec quam felis, ultricies.'\n",
    "message260 = 'Lorem ipsum dolor sit amet, consectetuer adipiscing elit. Aenean commodo ligula eget dolor. Aenean massa. Cum sociis natoque penatibus et magnis dis parturient montes, nascetur ridiculus mus. Donec quam felis, ultricies nec, pellentesque eu, pretium quis, sem.'\n",
    "message325 = 'Lorem ipsum dolor sit amet, consectetuer adipiscing elit. Aenean commodo ligula eget dolor. Aenean massa. Cum sociis natoque penatibus et magnis dis parturient montes, nascetur ridiculus mus. Donec quam felis, ultricies nec, pellentesque eu, pretium quis, sem. Nulla consequat massa quis enim. Donec pede justo, fringilla vel'\n",
    "message500 = 'Lorem ipsum dolor sit amet, consectetuer adipiscing elit. Aenean commodo ligula eget dolor. Aenean massa. Cum sociis natoque penatibus et magnis dis parturient montes, nascetur ridiculus mus. Donec quam felis, ultricies nec, pellentesque eu, pretium quis, sem. Nulla consequat massa quis enim. Donec pede justo, fringilla vel, aliquet nec, vulputate eget, arcu. In enim justo, rhoncus ut, imperdiet a, venenatis vitae, justo. Nullam dictum felis eu pede mollis pretium. Integer tincidunt. Cras dapibu'\n",
    "print('message has the following number of characters:', len(message325))\n",
    "\n",
    "# up to 260 incl. fontsize: 72, width 20\n",
    "# up to 120 incl. fontsize: 72, width 16\n",
    "\n",
    "# run program:\n",
    "\n",
    "# get_image_from_unsplash()\n",
    "# # create_image_with_message(message50, 'post')\n",
    "# create_image_with_message(message500, 'story')\n",
    "\n",
    "\n"
   ]
  },
  {
   "cell_type": "code",
   "execution_count": 10,
   "id": "0803a7a0",
   "metadata": {},
   "outputs": [],
   "source": [
    "options=uc.ChromeOptions()\n",
    "options.add_argument(\"--disable-backgrounding-occluded-windows\")\n",
    "options.add_argument(\"--user-agent='Mozilla/5.0 (iPhone; CPU iPhone OS 10_3 like Mac OS X) AppleWebKit/602.1.50 (KHTML, like Gecko) CriOS/56.0.2924.75 Mobile/14E5239e Safari/602.1'\")\n",
    "\n",
    "driver = uc.Chrome(use_subprocess=True, options=options)\n",
    "driver.maximize_window()\n",
    "driver.get(\"https://www.instagram.com/\")\n",
    "time.sleep(3)\n",
    "\n"
   ]
  },
  {
   "cell_type": "code",
   "execution_count": 3,
   "id": "03ab6c87",
   "metadata": {},
   "outputs": [
    {
     "name": "stdout",
     "output_type": "stream",
     "text": [
      "done what are we waiting for\n"
     ]
    }
   ],
   "source": [
    "allow_essential_cookies = driver.find_element(By.XPATH, '//button[text()=\"Allow essential and optional cookies\"]')\n",
    "allow_essential_cookies.click()\n",
    "\n",
    "\n",
    "\n",
    "print('done what are we waiting for')"
   ]
  },
  {
   "cell_type": "code",
   "execution_count": 11,
   "id": "5fc9beed",
   "metadata": {},
   "outputs": [],
   "source": [
    "# do not dw app, clikc on login\n",
    "login_button = driver.find_element(By.XPATH, '//button[text()=\"Log in\"]')\n",
    "login_button.click()"
   ]
  },
  {
   "cell_type": "code",
   "execution_count": 12,
   "id": "f7bb27f9",
   "metadata": {},
   "outputs": [],
   "source": [
    "# time.sleep(1)\n",
    "# open_window.maximize()\n",
    "# time.sleep(1)\n",
    "driver.switch_to.window(driver.current_window_handle)\n",
    "driver.minimize_window()  \n",
    "driver.maximize_window()  \n",
    "\n",
    "time.sleep(1)\n",
    "\n",
    "open_window = pyautogui.getWindowsWithTitle(\"Instagram\")[0]\n",
    "pyautogui.click(open_window.center)\n",
    "\n",
    "\n",
    "\n",
    "pyautogui.keyDown('f12')\n",
    "pyautogui.keyUp('f12')\n",
    "time.sleep(2)\n",
    "pyautogui.keyDown('ctrl')\n",
    "pyautogui.keyDown('shift')\n",
    "pyautogui.press('m')\n",
    "pyautogui.keyUp('shift')\n",
    "pyautogui.keyUp('ctrl')"
   ]
  },
  {
   "cell_type": "code",
   "execution_count": 23,
   "id": "d78d5bd3",
   "metadata": {
    "scrolled": true
   },
   "outputs": [],
   "source": [
    "my_email=driver.find_element(By.XPATH, '//input[@name=\"username\"]')\n",
    "my_email.send_keys(\"motivation_blu\")\n",
    "\n",
    "my_password=driver.find_element(By.XPATH, '//input[@name=\"password\"]')\n",
    "my_password.send_keys(read_password_file('./.pass'))\n",
    "time.sleep(2)\n",
    "\n",
    "login=driver.find_element(By.XPATH, '//div[text()=\"Log in\"]')\n",
    "login.click()\n",
    "\n",
    "time.sleep(3)\n"
   ]
  },
  {
   "cell_type": "code",
   "execution_count": 24,
   "id": "cedccfcf",
   "metadata": {},
   "outputs": [],
   "source": [
    "# do not save login info, click on not now\n",
    "login = driver.find_element(By.XPATH, '//button[text()=\"Not Now\"]')\n",
    "login.click()"
   ]
  },
  {
   "cell_type": "code",
   "execution_count": 34,
   "id": "781a3370",
   "metadata": {},
   "outputs": [
    {
     "ename": "StaleElementReferenceException",
     "evalue": "Message: stale element reference: element is not attached to the page document\n  (Session info: chrome=107.0.5304.107)\nStacktrace:\nBacktrace:\n\tOrdinal0 [0x0082ACD3+2075859]\n\tOrdinal0 [0x007BEE61+1633889]\n\tOrdinal0 [0x006BB7BD+571325]\n\tOrdinal0 [0x006BE374+582516]\n\tOrdinal0 [0x006BE225+582181]\n\tOrdinal0 [0x006BE4C0+582848]\n\tOrdinal0 [0x006EC654+771668]\n\tOrdinal0 [0x006E1AED+727789]\n\tOrdinal0 [0x0070731C+881436]\n\tOrdinal0 [0x006E15BF+726463]\n\tOrdinal0 [0x00707534+881972]\n\tOrdinal0 [0x0071B56A+963946]\n\tOrdinal0 [0x00707136+880950]\n\tOrdinal0 [0x006DFEFD+720637]\n\tOrdinal0 [0x006E0F3F+724799]\n\tGetHandleVerifier [0x00ADEED2+2769538]\n\tGetHandleVerifier [0x00AD0D95+2711877]\n\tGetHandleVerifier [0x008BA03A+521194]\n\tGetHandleVerifier [0x008B8DA0+516432]\n\tOrdinal0 [0x007C682C+1665068]\n\tOrdinal0 [0x007CB128+1683752]\n\tOrdinal0 [0x007CB215+1683989]\n\tOrdinal0 [0x007D6484+1729668]\n\tBaseThreadInitThunk [0x761BFEF9+25]\n\tRtlGetAppContainerNamedObjectPath [0x776B7BBE+286]\n\tRtlGetAppContainerNamedObjectPath [0x776B7B8E+238]\n",
     "output_type": "error",
     "traceback": [
      "\u001b[1;31m---------------------------------------------------------------------------\u001b[0m",
      "\u001b[1;31mStaleElementReferenceException\u001b[0m            Traceback (most recent call last)",
      "Cell \u001b[1;32mIn [34], line 3\u001b[0m\n\u001b[0;32m      1\u001b[0m \u001b[38;5;66;03m# turn on notifications, click not now\u001b[39;00m\n\u001b[0;32m      2\u001b[0m login \u001b[38;5;241m=\u001b[39m driver\u001b[38;5;241m.\u001b[39mfind_element(By\u001b[38;5;241m.\u001b[39mXPATH, \u001b[38;5;124m'\u001b[39m\u001b[38;5;124m//button[text()=\u001b[39m\u001b[38;5;124m\"\u001b[39m\u001b[38;5;124mNot Now\u001b[39m\u001b[38;5;124m\"\u001b[39m\u001b[38;5;124m]\u001b[39m\u001b[38;5;124m'\u001b[39m)\n\u001b[1;32m----> 3\u001b[0m \u001b[43mlogin\u001b[49m\u001b[38;5;241;43m.\u001b[39;49m\u001b[43mclick\u001b[49m\u001b[43m(\u001b[49m\u001b[43m)\u001b[49m\n",
      "File \u001b[1;32mE:\\projects\\instapy-and-image-generator\\instaenv\\lib\\site-packages\\selenium\\webdriver\\remote\\webelement.py:93\u001b[0m, in \u001b[0;36mWebElement.click\u001b[1;34m(self)\u001b[0m\n\u001b[0;32m     91\u001b[0m \u001b[38;5;28;01mdef\u001b[39;00m \u001b[38;5;21mclick\u001b[39m(\u001b[38;5;28mself\u001b[39m) \u001b[38;5;241m-\u001b[39m\u001b[38;5;241m>\u001b[39m \u001b[38;5;28;01mNone\u001b[39;00m:\n\u001b[0;32m     92\u001b[0m     \u001b[38;5;124;03m\"\"\"Clicks the element.\"\"\"\u001b[39;00m\n\u001b[1;32m---> 93\u001b[0m     \u001b[38;5;28;43mself\u001b[39;49m\u001b[38;5;241;43m.\u001b[39;49m\u001b[43m_execute\u001b[49m\u001b[43m(\u001b[49m\u001b[43mCommand\u001b[49m\u001b[38;5;241;43m.\u001b[39;49m\u001b[43mCLICK_ELEMENT\u001b[49m\u001b[43m)\u001b[49m\n",
      "File \u001b[1;32mE:\\projects\\instapy-and-image-generator\\instaenv\\lib\\site-packages\\selenium\\webdriver\\remote\\webelement.py:410\u001b[0m, in \u001b[0;36mWebElement._execute\u001b[1;34m(self, command, params)\u001b[0m\n\u001b[0;32m    408\u001b[0m     params \u001b[38;5;241m=\u001b[39m {}\n\u001b[0;32m    409\u001b[0m params[\u001b[38;5;124m\"\u001b[39m\u001b[38;5;124mid\u001b[39m\u001b[38;5;124m\"\u001b[39m] \u001b[38;5;241m=\u001b[39m \u001b[38;5;28mself\u001b[39m\u001b[38;5;241m.\u001b[39m_id\n\u001b[1;32m--> 410\u001b[0m \u001b[38;5;28;01mreturn\u001b[39;00m \u001b[38;5;28;43mself\u001b[39;49m\u001b[38;5;241;43m.\u001b[39;49m\u001b[43m_parent\u001b[49m\u001b[38;5;241;43m.\u001b[39;49m\u001b[43mexecute\u001b[49m\u001b[43m(\u001b[49m\u001b[43mcommand\u001b[49m\u001b[43m,\u001b[49m\u001b[43m \u001b[49m\u001b[43mparams\u001b[49m\u001b[43m)\u001b[49m\n",
      "File \u001b[1;32mE:\\projects\\instapy-and-image-generator\\instaenv\\lib\\site-packages\\selenium\\webdriver\\remote\\webdriver.py:444\u001b[0m, in \u001b[0;36mWebDriver.execute\u001b[1;34m(self, driver_command, params)\u001b[0m\n\u001b[0;32m    442\u001b[0m response \u001b[38;5;241m=\u001b[39m \u001b[38;5;28mself\u001b[39m\u001b[38;5;241m.\u001b[39mcommand_executor\u001b[38;5;241m.\u001b[39mexecute(driver_command, params)\n\u001b[0;32m    443\u001b[0m \u001b[38;5;28;01mif\u001b[39;00m response:\n\u001b[1;32m--> 444\u001b[0m     \u001b[38;5;28;43mself\u001b[39;49m\u001b[38;5;241;43m.\u001b[39;49m\u001b[43merror_handler\u001b[49m\u001b[38;5;241;43m.\u001b[39;49m\u001b[43mcheck_response\u001b[49m\u001b[43m(\u001b[49m\u001b[43mresponse\u001b[49m\u001b[43m)\u001b[49m\n\u001b[0;32m    445\u001b[0m     response[\u001b[38;5;124m\"\u001b[39m\u001b[38;5;124mvalue\u001b[39m\u001b[38;5;124m\"\u001b[39m] \u001b[38;5;241m=\u001b[39m \u001b[38;5;28mself\u001b[39m\u001b[38;5;241m.\u001b[39m_unwrap_value(response\u001b[38;5;241m.\u001b[39mget(\u001b[38;5;124m\"\u001b[39m\u001b[38;5;124mvalue\u001b[39m\u001b[38;5;124m\"\u001b[39m, \u001b[38;5;28;01mNone\u001b[39;00m))\n\u001b[0;32m    446\u001b[0m     \u001b[38;5;28;01mreturn\u001b[39;00m response\n",
      "File \u001b[1;32mE:\\projects\\instapy-and-image-generator\\instaenv\\lib\\site-packages\\selenium\\webdriver\\remote\\errorhandler.py:249\u001b[0m, in \u001b[0;36mErrorHandler.check_response\u001b[1;34m(self, response)\u001b[0m\n\u001b[0;32m    247\u001b[0m         alert_text \u001b[38;5;241m=\u001b[39m value[\u001b[38;5;124m\"\u001b[39m\u001b[38;5;124malert\u001b[39m\u001b[38;5;124m\"\u001b[39m]\u001b[38;5;241m.\u001b[39mget(\u001b[38;5;124m\"\u001b[39m\u001b[38;5;124mtext\u001b[39m\u001b[38;5;124m\"\u001b[39m)\n\u001b[0;32m    248\u001b[0m     \u001b[38;5;28;01mraise\u001b[39;00m exception_class(message, screen, stacktrace, alert_text)  \u001b[38;5;66;03m# type: ignore[call-arg]  # mypy is not smart enough here\u001b[39;00m\n\u001b[1;32m--> 249\u001b[0m \u001b[38;5;28;01mraise\u001b[39;00m exception_class(message, screen, stacktrace)\n",
      "\u001b[1;31mStaleElementReferenceException\u001b[0m: Message: stale element reference: element is not attached to the page document\n  (Session info: chrome=107.0.5304.107)\nStacktrace:\nBacktrace:\n\tOrdinal0 [0x0082ACD3+2075859]\n\tOrdinal0 [0x007BEE61+1633889]\n\tOrdinal0 [0x006BB7BD+571325]\n\tOrdinal0 [0x006BE374+582516]\n\tOrdinal0 [0x006BE225+582181]\n\tOrdinal0 [0x006BE4C0+582848]\n\tOrdinal0 [0x006EC654+771668]\n\tOrdinal0 [0x006E1AED+727789]\n\tOrdinal0 [0x0070731C+881436]\n\tOrdinal0 [0x006E15BF+726463]\n\tOrdinal0 [0x00707534+881972]\n\tOrdinal0 [0x0071B56A+963946]\n\tOrdinal0 [0x00707136+880950]\n\tOrdinal0 [0x006DFEFD+720637]\n\tOrdinal0 [0x006E0F3F+724799]\n\tGetHandleVerifier [0x00ADEED2+2769538]\n\tGetHandleVerifier [0x00AD0D95+2711877]\n\tGetHandleVerifier [0x008BA03A+521194]\n\tGetHandleVerifier [0x008B8DA0+516432]\n\tOrdinal0 [0x007C682C+1665068]\n\tOrdinal0 [0x007CB128+1683752]\n\tOrdinal0 [0x007CB215+1683989]\n\tOrdinal0 [0x007D6484+1729668]\n\tBaseThreadInitThunk [0x761BFEF9+25]\n\tRtlGetAppContainerNamedObjectPath [0x776B7BBE+286]\n\tRtlGetAppContainerNamedObjectPath [0x776B7B8E+238]\n"
     ]
    }
   ],
   "source": [
    "# turn on notifications, click not now\n",
    "login = driver.find_element(By.XPATH, '//button[text()=\"Not Now\"]')\n",
    "login.click()"
   ]
  },
  {
   "cell_type": "code",
   "execution_count": 25,
   "id": "3c0f2edb",
   "metadata": {},
   "outputs": [],
   "source": [
    "# add instagram to your home screen, cancel\n",
    "login = driver.find_element(By.XPATH, '//button[text()=\"Cancel\"]')\n",
    "login.click()\n"
   ]
  },
  {
   "cell_type": "code",
   "execution_count": 125,
   "id": "8aadaaff",
   "metadata": {},
   "outputs": [],
   "source": [
    "# share post\n",
    "# click upload button menu\n",
    "img_upload=driver.find_element(By.XPATH, '/html/body/div[1]/div/div/div/div[1]/div/div/div/div[1]/section/nav[1]/div/header/div/div/div[1]/div[1]/div[2]/a/div/div')\n",
    "img_upload.click()\n",
    "time.sleep(3)\n",
    "# now click on post\n",
    "img_upload=driver.find_element(By.XPATH, '/html/body/div[1]/div/div/div/div[1]/div/div/div/div[1]/section/nav[1]/div/header/div/div/div[1]/div[1]/div[1]/div/div/div[1]/div[1]/div/div[1]/div/div/div/div')\n",
    "img_upload.click()\n",
    "time.sleep(2)\n"
   ]
  },
  {
   "cell_type": "code",
   "execution_count": 126,
   "id": "4502380c",
   "metadata": {},
   "outputs": [],
   "source": [
    "path = 'E:\\\\projects\\\\instapy-and-image-generator\\\\result.png' # your imagepath\n",
    "# img_upload.send_keys(path)\n",
    "# pyautogui.write(path, interval=0.05) \n",
    "open_window = pyautogui.getWindowsWithTitle(\"Open\")[0]\n",
    "open_window.maximize()\n",
    "pyautogui.click(open_window.center)\n",
    "pyautogui.write(path) \n",
    "time.sleep(2)\n",
    "pyautogui.press('enter')"
   ]
  },
  {
   "cell_type": "code",
   "execution_count": 75,
   "id": "000059a3",
   "metadata": {},
   "outputs": [],
   "source": [
    "# click next\n",
    "img_upload=driver.find_element(By.XPATH, '/html/body/div[1]/div/div/div/div[1]/div/div/div/div[1]/div[1]/section/div[1]/header/div/div[2]/button')\n",
    "img_upload.click()\n",
    "time.sleep(2)\n"
   ]
  },
  {
   "cell_type": "code",
   "execution_count": 76,
   "id": "af9cec54",
   "metadata": {},
   "outputs": [],
   "source": [
    "# write caption\n",
    "img_upload=driver.find_element(By.XPATH, '/html/body/div[1]/div/div/div/div[1]/div/div/div/div[1]/div[1]/section/div[2]/section[1]/div[1]/textarea')\n",
    "img_upload.click()\n",
    "img_upload.send_keys(message)\n",
    "img_upload.send_keys('\\n\\n #motivational #quoteoftheday #motivationalquotes #motivation #quotes #inspiration #success #mindset #inspirationalquotes #love #positivity')\n",
    "time.sleep(2)\n",
    "\n",
    "\n"
   ]
  },
  {
   "cell_type": "code",
   "execution_count": 33,
   "id": "f0d82dc6",
   "metadata": {},
   "outputs": [],
   "source": [
    "# time.sleep(1)\n",
    "# open_window.maximize()\n",
    "# time.sleep(1)\n",
    "driver.switch_to.window(driver.current_window_handle)\n",
    "driver.minimize_window()  \n",
    "driver.maximize_window()  \n",
    "\n",
    "time.sleep(1)\n",
    "\n",
    "open_window = pyautogui.getWindowsWithTitle(\"Instagram\")[0]\n",
    "pyautogui.click(open_window.center)\n",
    "\n",
    "\n",
    "\n",
    "pyautogui.keyDown('f12')\n",
    "pyautogui.keyUp('f12')\n",
    "time.sleep(2)\n",
    "pyautogui.keyDown('ctrl')\n",
    "pyautogui.keyDown('shift')\n",
    "pyautogui.press('m')\n",
    "pyautogui.keyUp('shift')\n",
    "pyautogui.keyUp('ctrl')\n"
   ]
  },
  {
   "cell_type": "code",
   "execution_count": null,
   "id": "d874aeba",
   "metadata": {},
   "outputs": [],
   "source": [
    "\n",
    "\n",
    "# share story BEGIN\n",
    "# img_upload=driver.find_element(By.XPATH, '/html/body/div[1]/div/div/div/div[1]/div/div/div/div[1]/section/nav[1]/div/header/div/div/div[1]/div[1]/div[2]/a/div/div/div/div')\n",
    "button = driver.find_element(By.XPATH, '//div[text()=\"Your story\"]')\n",
    "button.click()\n",
    "time.sleep(2)\n"
   ]
  },
  {
   "cell_type": "code",
   "execution_count": 184,
   "id": "ce27702c",
   "metadata": {},
   "outputs": [],
   "source": [
    "# share story\n",
    "img_upload = driver.find_element(By.XPATH, '/html/body/div[1]/div/div/div/div[1]/div/div/div/div[1]/section/main/div[1]/section/div/div[2]/div/div/div/div[1]/button')\n",
    "img_upload.click()\n",
    "time.sleep(2)\n",
    "path = 'E:\\\\projects\\\\instapy-and-image-generator\\\\result.png' # your imagepath\n",
    "# img_upload.send_keys(path)\n",
    "# pyautogui.write(path, interval=0.05) \n",
    "open_window = pyautogui.getWindowsWithTitle(\"Open\")[0]\n",
    "open_window.maximize()\n",
    "pyautogui.click(open_window.center)\n",
    "pyautogui.write(path) \n",
    "time.sleep(2)\n",
    "pyautogui.press('enter')"
   ]
  },
  {
   "cell_type": "code",
   "execution_count": null,
   "id": "50ccf8c2",
   "metadata": {},
   "outputs": [],
   "source": [
    "# add to story\n",
    "\n",
    "img_upload = driver.find_element(By.XPATH, '/html/body/div[1]/div/div/div/div[1]/div/div/div/div[1]/div[1]/section/footer/div/div/button')\n",
    "img_upload.click()"
   ]
  },
  {
   "cell_type": "code",
   "execution_count": null,
   "id": "eaeb4904",
   "metadata": {},
   "outputs": [],
   "source": []
  }
 ],
 "metadata": {
  "kernelspec": {
   "display_name": "Python 3 (ipykernel)",
   "language": "python",
   "name": "python3"
  },
  "language_info": {
   "codemirror_mode": {
    "name": "ipython",
    "version": 3
   },
   "file_extension": ".py",
   "mimetype": "text/x-python",
   "name": "python",
   "nbconvert_exporter": "python",
   "pygments_lexer": "ipython3",
   "version": "3.9.13"
  }
 },
 "nbformat": 4,
 "nbformat_minor": 5
}
