{
 "cells": [
  {
   "cell_type": "code",
   "execution_count": 1,
   "id": "157b1b05",
   "metadata": {},
   "outputs": [
    {
     "name": "stdout",
     "output_type": "stream",
     "text": [
      "message has the following number of characters: 325\n"
     ]
    }
   ],
   "source": [
    "from imgs import *  # gets all functions and their names\n",
    "import time\n",
    "from selenium import webdriver\n",
    "from webdriver_manager.chrome import ChromeDriverManager\n",
    "from selenium.webdriver.chrome.service import Service\n",
    "from selenium.webdriver.common.by import By\n",
    "import pyautogui\n",
    "import undetected_chromedriver as uc\n",
    "\n",
    "\n",
    "def read_password_file(filepath):\n",
    "    \"\"\"\n",
    "    Read and return the user/password file.\n",
    "    \"\"\"\n",
    "    try:\n",
    "        with open(filepath, 'r') as fd:\n",
    "            lines = fd.readlines()\n",
    "            fd.close()\n",
    "            return lines\n",
    "    except IOError:\n",
    "        raise ValueError(\"Can't open password file for reading.\")\n",
    "\n",
    "\n",
    "message = \\\n",
    "    \"Alwaysaa try to end the day with a positiveday with a positiveday with a positive thought. No matter how hard as df  asdfas dfas asdf a things are, tomorrow is a fresh opportunity to make everything better.\"\n",
    "\n",
    "\n",
    "message25 = \"Lorem ipsum dolor sit ame\"\n",
    "message50 = \"Lorem ipsum dolor sit amet, consectetuer adipiscin\"\n",
    "message120 = \"Lorem ipsum dolor sit amet, consectetuer adipiscing elit. Aenean commodo ligula eget dolor. Aenean massa. Cum sociis nat\"  # average quote size\n",
    "message220 = 'Lorem ipsum dolor sit amet, consectetueradipiscing welit. Aenean commodo ligula eget dolor. Aenean massa. Cum sociis natoque penatibus et magnis dis parturient montes, nascetur ridiculus mus. Donec quam felis, ultricies.'\n",
    "message260 = 'Lorem ipsum dolor sit amet, consectetuer adipiscing elit. Aenean commodo ligula eget dolor. Aenean massa. Cum sociis natoque penatibus et magnis dis parturient montes, nascetur ridiculus mus. Donec quam felis, ultricies nec, pellentesque eu, pretium quis, sem.'\n",
    "message325 = 'Lorem ipsum dolor sit amet, consectetuer adipiscing elit. Aenean commodo ligula eget dolor. Aenean massa. Cum sociis natoque penatibus et magnis dis parturient montes, nascetur ridiculus mus. Donec quam felis, ultricies nec, pellentesque eu, pretium quis, sem. Nulla consequat massa quis enim. Donec pede justo, fringilla vel'\n",
    "message500 = 'Lorem ipsum dolor sit amet, consectetuer adipiscing elit. Aenean commodo ligula eget dolor. Aenean massa. Cum sociis natoque penatibus et magnis dis parturient montes, nascetur ridiculus mus. Donec quam felis, ultricies nec, pellentesque eu, pretium quis, sem. Nulla consequat massa quis enim. Donec pede justo, fringilla vel, aliquet nec, vulputate eget, arcu. In enim justo, rhoncus ut, imperdiet a, venenatis vitae, justo. Nullam dictum felis eu pede mollis pretium. Integer tincidunt. Cras dapibu'\n",
    "print('message has the following number of characters:', len(message325))\n",
    "\n",
    "# up to 260 incl. fontsize: 72, width 20\n",
    "# up to 120 incl. fontsize: 72, width 16\n",
    "\n",
    "# run program:\n",
    "\n",
    "# get_image_from_unsplash()\n",
    "# # create_image_with_message(message50, 'post')\n",
    "# create_image_with_message(message500, 'story')\n",
    "\n",
    "\n"
   ]
  },
  {
   "cell_type": "code",
   "execution_count": 10,
   "id": "0803a7a0",
   "metadata": {},
   "outputs": [],
   "source": [
    "options=uc.ChromeOptions()\n",
    "options.add_argument(\"--disable-backgrounding-occluded-windows\")\n",
    "options.add_argument(\"--user-agent='Mozilla/5.0 (iPhone; CPU iPhone OS 10_3 like Mac OS X) AppleWebKit/602.1.50 (KHTML, like Gecko) CriOS/56.0.2924.75 Mobile/14E5239e Safari/602.1'\")\n",
    "\n",
    "driver = uc.Chrome(use_subprocess=True, options=options)\n",
    "driver.maximize_window()\n",
    "driver.get(\"https://www.instagram.com/\")\n",
    "time.sleep(3)\n",
    "\n"
   ]
  },
  {
   "cell_type": "code",
   "execution_count": 3,
   "id": "03ab6c87",
   "metadata": {},
   "outputs": [
    {
     "name": "stdout",
     "output_type": "stream",
     "text": [
      "done what are we waiting for\n"
     ]
    }
   ],
   "source": [
    "allow_essential_cookies = driver.find_element(By.XPATH, '//button[text()=\"Allow essential and optional cookies\"]')\n",
    "allow_essential_cookies.click()\n",
    "\n",
    "\n",
    "\n",
    "print('done what are we waiting for')"
   ]
  },
  {
   "cell_type": "code",
   "execution_count": 11,
   "id": "5fc9beed",
   "metadata": {},
   "outputs": [],
   "source": [
    "# do not dw app, clikc on login\n",
    "login_button = driver.find_element(By.XPATH, '//button[text()=\"Log in\"]')\n",
    "login_button.click()"
   ]
  },
  {
   "cell_type": "code",
   "execution_count": 12,
   "id": "6addc38c",
   "metadata": {},
   "outputs": [],
   "source": [
    "# time.sleep(1)\n",
    "# open_window.maximize()\n",
    "# time.sleep(1)\n",
    "driver.switch_to.window(driver.current_window_handle)\n",
    "driver.minimize_window()  \n",
    "driver.maximize_window()  \n",
    "\n",
    "time.sleep(1)\n",
    "\n",
    "open_window = pyautogui.getWindowsWithTitle(\"Instagram\")[0]\n",
    "pyautogui.click(open_window.center)\n",
    "\n",
    "\n",
    "\n",
    "pyautogui.keyDown('f12')\n",
    "pyautogui.keyUp('f12')\n",
    "time.sleep(2)\n",
    "pyautogui.keyDown('ctrl')\n",
    "pyautogui.keyDown('shift')\n",
    "pyautogui.press('m')\n",
    "pyautogui.keyUp('shift')\n",
    "pyautogui.keyUp('ctrl')"
   ]
  },
  {
   "cell_type": "code",
   "execution_count": 23,
   "id": "d78d5bd3",
   "metadata": {
    "scrolled": true
   },
   "outputs": [],
   "source": [
    "my_email=driver.find_element(By.XPATH, '//input[@name=\"username\"]')\n",
    "my_email.send_keys(\"motivation_blu\")\n",
    "\n",
    "my_password=driver.find_element(By.XPATH, '//input[@name=\"password\"]')\n",
    "my_password.send_keys(read_password_file('./.pass'))\n",
    "time.sleep(2)\n",
    "\n",
    "login=driver.find_element(By.XPATH, '//div[text()=\"Log in\"]')\n",
    "login.click()\n",
    "\n",
    "time.sleep(3)\n"
   ]
  },
  {
   "cell_type": "code",
   "execution_count": 24,
   "id": "cedccfcf",
   "metadata": {},
   "outputs": [],
   "source": [
    "# do not save login info, click on not now\n",
    "login = driver.find_element(By.XPATH, '//button[text()=\"Not Now\"]')\n",
    "login.click()"
   ]
  },
  {
   "cell_type": "code",
   "execution_count": null,
   "id": "781a3370",
   "metadata": {},
   "outputs": [],
   "source": [
    "# turn on notifications, click not now\n",
    "login = driver.find_element(By.XPATH, '//button[text()=\"Not Now\"]')\n",
    "login.click()"
   ]
  },
  {
   "cell_type": "code",
   "execution_count": 25,
   "id": "3c0f2edb",
   "metadata": {},
   "outputs": [],
   "source": [
    "# add instagram to your home screen, cancel\n",
    "login = driver.find_element(By.XPATH, '//button[text()=\"Cancel\"]')\n",
    "login.click()\n"
   ]
  },
  {
   "cell_type": "code",
   "execution_count": 125,
   "id": "8aadaaff",
   "metadata": {},
   "outputs": [],
   "source": [
    "# share post\n",
    "# click upload button menu\n",
    "img_upload=driver.find_element(By.XPATH, '/html/body/div[1]/div/div/div/div[1]/div/div/div/div[1]/section/nav[1]/div/header/div/div/div[1]/div[1]/div[2]/a/div/div')\n",
    "img_upload.click()\n",
    "time.sleep(3)\n",
    "# now click on post\n",
    "img_upload=driver.find_element(By.XPATH, '/html/body/div[1]/div/div/div/div[1]/div/div/div/div[1]/section/nav[1]/div/header/div/div/div[1]/div[1]/div[1]/div/div/div[1]/div[1]/div/div[1]/div/div/div/div')\n",
    "img_upload.click()\n",
    "time.sleep(2)\n"
   ]
  },
  {
   "cell_type": "code",
   "execution_count": 126,
   "id": "4502380c",
   "metadata": {},
   "outputs": [],
   "source": [
    "path = 'E:\\\\projects\\\\instapy-and-image-generator\\\\result.png' # your imagepath\n",
    "# img_upload.send_keys(path)\n",
    "# pyautogui.write(path, interval=0.05) \n",
    "open_window = pyautogui.getWindowsWithTitle(\"Open\")[0]\n",
    "open_window.maximize()\n",
    "pyautogui.click(open_window.center)\n",
    "pyautogui.write(path) \n",
    "time.sleep(2)\n",
    "pyautogui.press('enter')"
   ]
  },
  {
   "cell_type": "code",
   "execution_count": 75,
   "id": "000059a3",
   "metadata": {},
   "outputs": [],
   "source": [
    "# click next\n",
    "img_upload=driver.find_element(By.XPATH, '/html/body/div[1]/div/div/div/div[1]/div/div/div/div[1]/div[1]/section/div[1]/header/div/div[2]/button')\n",
    "img_upload.click()\n",
    "time.sleep(2)\n"
   ]
  },
  {
   "cell_type": "code",
   "execution_count": 76,
   "id": "af9cec54",
   "metadata": {},
   "outputs": [],
   "source": [
    "# write caption\n",
    "img_upload=driver.find_element(By.XPATH, '/html/body/div[1]/div/div/div/div[1]/div/div/div/div[1]/div[1]/section/div[2]/section[1]/div[1]/textarea')\n",
    "img_upload.click()\n",
    "img_upload.send_keys(message)\n",
    "img_upload.send_keys('\\n\\n #motivational #quoteoftheday #motivationalquotes #motivation #quotes #inspiration #success #mindset #inspirationalquotes #love #positivity')\n",
    "time.sleep(2)\n",
    "\n",
    "\n"
   ]
  },
  {
   "cell_type": "code",
   "execution_count": 31,
   "id": "f0d82dc6",
   "metadata": {},
   "outputs": [],
   "source": [
    "# share story BEGIN\n",
    "# img_upload=driver.find_element(By.XPATH, '/html/body/div[1]/div/div/div/div[1]/div/div/div/div[1]/section/nav[1]/div/header/div/div/div[1]/div[1]/div[2]/a/div/div/div/div')\n",
    "button = driver.find_element(By.XPATH, '//div[text()=\"Your story\"]')\n",
    "button.click()\n",
    "time.sleep(2)\n"
   ]
  },
  {
   "cell_type": "code",
   "execution_count": 184,
   "id": "ce27702c",
   "metadata": {},
   "outputs": [],
   "source": [
    "# share story\n",
    "img_upload = driver.find_element(By.XPATH, '/html/body/div[1]/div/div/div/div[1]/div/div/div/div[1]/section/main/div[1]/section/div/div[2]/div/div/div/div[1]/button')\n",
    "img_upload.click()\n",
    "time.sleep(2)\n",
    "path = 'E:\\\\projects\\\\instapy-and-image-generator\\\\result.png' # your imagepath\n",
    "# img_upload.send_keys(path)\n",
    "# pyautogui.write(path, interval=0.05) \n",
    "open_window = pyautogui.getWindowsWithTitle(\"Open\")[0]\n",
    "open_window.maximize()\n",
    "pyautogui.click(open_window.center)\n",
    "pyautogui.write(path) \n",
    "time.sleep(2)\n",
    "pyautogui.press('enter')"
   ]
  },
  {
   "cell_type": "code",
   "execution_count": null,
   "id": "50ccf8c2",
   "metadata": {},
   "outputs": [],
   "source": [
    "# add to story\n",
    "\n",
    "img_upload = driver.find_element(By.XPATH, '/html/body/div[1]/div/div/div/div[1]/div/div/div/div[1]/div[1]/section/footer/div/div/button')\n",
    "img_upload.click()"
   ]
  },
  {
   "cell_type": "code",
   "execution_count": null,
   "id": "eaeb4904",
   "metadata": {},
   "outputs": [],
   "source": []
  }
 ],
 "metadata": {
  "kernelspec": {
   "display_name": "Python 3 (ipykernel)",
   "language": "python",
   "name": "python3"
  },
  "language_info": {
   "codemirror_mode": {
    "name": "ipython",
    "version": 3
   },
   "file_extension": ".py",
   "mimetype": "text/x-python",
   "name": "python",
   "nbconvert_exporter": "python",
   "pygments_lexer": "ipython3",
   "version": "3.9.13"
  }
 },
 "nbformat": 4,
 "nbformat_minor": 5
}
